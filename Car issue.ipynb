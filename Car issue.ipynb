{
 "cells": [
  {
   "cell_type": "code",
   "execution_count": null,
   "metadata": {
    "collapsed": true
   },
   "outputs": [],
   "source": [
    "class Carro():\n",
    "    def __init__(self, consumo):\n",
    "        self.consumo = (consumo)\n",
    "        \n",
    "    def andar(self, km):\n",
    "        self.km = km\n",
    "    def abastecer(self, li):\n",
    "        self.li = li\n",
    "    def atri(self):\n",
    "        try:\n",
    "            c = float(input(\"Qual o consumo do carro?: \"))\n",
    "            self.consumo = c\n",
    "        except:\n",
    "            print(\"Valor Inválido\")\n",
    "            main()\n",
    "        a = float(input(\"Quantos litros quer abastecer?: \"))\n",
    "        self.li = a\n",
    "        d = float(input(\"Quanto quer viajar hoje ?: \"))\n",
    "        self.km = d\n",
    "        \n",
    "        \n",
    "        \n",
    "def main():\n",
    "    carr = Carro(0)\n",
    "    while True:\n",
    "        carr.atri()\n",
    "        f = carr.li*((carr.li*carr.consumo)-carr.km)\n",
    "        t = f/(carr.li*carr.consumo)\n",
    "        if carr.li*carr.consumo < carr.km:\n",
    "            print(\"Você não tem combustível o suficiente para viajar essa distância\")\n",
    "            print(t)\n",
    "        \n",
    "            \n",
    "            break\n",
    "        \n",
    "        \n",
    "        \n",
    "        if  f/(carr.li*carr.consumo) >=0:\n",
    "            print(\"Restaram %s litros\"% (t))\n",
    "            \n",
    "    \n",
    "    \n",
    "main()"
   ]
  }
 ],
 "metadata": {
  "kernelspec": {
   "display_name": "Python 3",
   "language": "python",
   "name": "python3"
  },
  "language_info": {
   "codemirror_mode": {
    "name": "ipython",
    "version": 3
   },
   "file_extension": ".py",
   "mimetype": "text/x-python",
   "name": "python",
   "nbconvert_exporter": "python",
   "pygments_lexer": "ipython3",
   "version": "3.6.0"
  }
 },
 "nbformat": 4,
 "nbformat_minor": 2
}
