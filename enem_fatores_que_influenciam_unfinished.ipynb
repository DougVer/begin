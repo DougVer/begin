{
 "cells": [
  {
   "cell_type": "code",
   "execution_count": 1,
   "metadata": {},
   "outputs": [],
   "source": [
    "import warnings\n",
    "warnings.filterwarnings(\"ignore\")\n",
    "import vaex as vx\n",
    "import pandas as pd\n",
    "import matplotlib.pyplot as plt\n",
    "import plotly.express as px\n",
    "import seaborn as sns\n",
    "import numpy as np"
   ]
  },
  {
   "cell_type": "code",
   "execution_count": 2,
   "metadata": {},
   "outputs": [],
   "source": [
    "columns=['NU_INSCRICAO',\n",
    "         'SG_UF_RESIDENCIA',\n",
    "         'NU_IDADE',\n",
    "         'TP_SEXO',\n",
    "         'TP_ESTADO_CIVIL',\n",
    "         'NU_NOTA_LC',\n",
    "         'NU_NOTA_MT',\n",
    "         'NU_NOTA_REDACAO',\n",
    "         'TP_ESCOLA',\n",
    "         'TP_ST_CONCLUSAO',\n",
    "         'Q001',\n",
    "         'Q002',\n",
    "         'Q005',\n",
    "         'Q006',\n",
    "         'Q024',\n",
    "         'Q025',\n",
    "         ]"
   ]
  },
  {
   "cell_type": "code",
   "execution_count": 3,
   "metadata": {},
   "outputs": [],
   "source": [
    "data = vx.read_csv('MICRODADOS_ENEM_2019.csv',sep=';', usecols=columns)"
   ]
  },
  {
   "cell_type": "code",
   "execution_count": 4,
   "metadata": {},
   "outputs": [
    {
     "data": {
      "text/html": [
       "<table>\n",
       "<thead>\n",
       "<tr><th>#                            </th><th style=\"text-align: right;\">  NU_INSCRICAO</th><th>SG_UF_RESIDENCIA  </th><th style=\"text-align: right;\">  NU_IDADE</th><th>TP_SEXO  </th><th style=\"text-align: right;\">  TP_ESTADO_CIVIL</th><th style=\"text-align: right;\">  TP_ST_CONCLUSAO</th><th style=\"text-align: right;\">  TP_ESCOLA</th><th style=\"text-align: right;\">  NU_NOTA_LC</th><th style=\"text-align: right;\">  NU_NOTA_MT</th><th style=\"text-align: right;\">  NU_NOTA_REDACAO</th><th>Q001  </th><th>Q002  </th><th style=\"text-align: right;\">  Q005</th><th>Q006  </th><th>Q024  </th><th>Q025  </th></tr>\n",
       "</thead>\n",
       "<tbody>\n",
       "<tr><td><i style='opacity: 0.6'>0</i></td><td style=\"text-align: right;\">   1.90001e+11</td><td>PA                </td><td style=\"text-align: right;\">        21</td><td>M        </td><td style=\"text-align: right;\">                1</td><td style=\"text-align: right;\">                1</td><td style=\"text-align: right;\">          1</td><td style=\"text-align: right;\">       497.3</td><td style=\"text-align: right;\">       369.1</td><td style=\"text-align: right;\">              780</td><td>D     </td><td>E     </td><td style=\"text-align: right;\">     7</td><td>B     </td><td>B     </td><td>A     </td></tr>\n",
       "<tr><td><i style='opacity: 0.6'>1</i></td><td style=\"text-align: right;\">   1.90001e+11</td><td>PA                </td><td style=\"text-align: right;\">        16</td><td>F        </td><td style=\"text-align: right;\">                1</td><td style=\"text-align: right;\">                3</td><td style=\"text-align: right;\">          1</td><td style=\"text-align: right;\">       482.3</td><td style=\"text-align: right;\">       416.5</td><td style=\"text-align: right;\">              600</td><td>D     </td><td>E     </td><td style=\"text-align: right;\">     5</td><td>B     </td><td>A     </td><td>A     </td></tr>\n",
       "<tr><td><i style='opacity: 0.6'>2</i></td><td style=\"text-align: right;\">   1.90001e+11</td><td>PA                </td><td style=\"text-align: right;\">        18</td><td>F        </td><td style=\"text-align: right;\">                1</td><td style=\"text-align: right;\">                2</td><td style=\"text-align: right;\">          3</td><td style=\"text-align: right;\">       582.6</td><td style=\"text-align: right;\">       571.5</td><td style=\"text-align: right;\">              640</td><td>H     </td><td>E     </td><td style=\"text-align: right;\">     3</td><td>C     </td><td>C     </td><td>B     </td></tr>\n",
       "<tr><td><i style='opacity: 0.6'>3</i></td><td style=\"text-align: right;\">   1.90001e+11</td><td>PA                </td><td style=\"text-align: right;\">        23</td><td>M        </td><td style=\"text-align: right;\">                0</td><td style=\"text-align: right;\">                2</td><td style=\"text-align: right;\">          2</td><td style=\"text-align: right;\">       nan  </td><td style=\"text-align: right;\">       nan  </td><td style=\"text-align: right;\">              nan</td><td>D     </td><td>D     </td><td style=\"text-align: right;\">     3</td><td>C     </td><td>A     </td><td>A     </td></tr>\n",
       "<tr><td><i style='opacity: 0.6'>4</i></td><td style=\"text-align: right;\">   1.90001e+11</td><td>PA                </td><td style=\"text-align: right;\">        23</td><td>M        </td><td style=\"text-align: right;\">                1</td><td style=\"text-align: right;\">                1</td><td style=\"text-align: right;\">          1</td><td style=\"text-align: right;\">       nan  </td><td style=\"text-align: right;\">       nan  </td><td style=\"text-align: right;\">              nan</td><td>B     </td><td>C     </td><td style=\"text-align: right;\">     5</td><td>C     </td><td>A     </td><td>A     </td></tr>\n",
       "<tr><td><i style='opacity: 0.6'>5</i></td><td style=\"text-align: right;\">   1.90001e+11</td><td>PA                </td><td style=\"text-align: right;\">        31</td><td>M        </td><td style=\"text-align: right;\">                1</td><td style=\"text-align: right;\">                1</td><td style=\"text-align: right;\">          1</td><td style=\"text-align: right;\">       582  </td><td style=\"text-align: right;\">       605.3</td><td style=\"text-align: right;\">              580</td><td>C     </td><td>C     </td><td style=\"text-align: right;\">     5</td><td>C     </td><td>A     </td><td>A     </td></tr>\n",
       "<tr><td><i style='opacity: 0.6'>6</i></td><td style=\"text-align: right;\">   1.90001e+11</td><td>PA                </td><td style=\"text-align: right;\">        30</td><td>F        </td><td style=\"text-align: right;\">                2</td><td style=\"text-align: right;\">                1</td><td style=\"text-align: right;\">          1</td><td style=\"text-align: right;\">       464.3</td><td style=\"text-align: right;\">       581.5</td><td style=\"text-align: right;\">              360</td><td>B     </td><td>B     </td><td style=\"text-align: right;\">     4</td><td>C     </td><td>A     </td><td>B     </td></tr>\n",
       "<tr><td><i style='opacity: 0.6'>7</i></td><td style=\"text-align: right;\">   1.90001e+11</td><td>PA                </td><td style=\"text-align: right;\">        26</td><td>F        </td><td style=\"text-align: right;\">                0</td><td style=\"text-align: right;\">                2</td><td style=\"text-align: right;\">          2</td><td style=\"text-align: right;\">       395.6</td><td style=\"text-align: right;\">       473.8</td><td style=\"text-align: right;\">              480</td><td>B     </td><td>B     </td><td style=\"text-align: right;\">     4</td><td>B     </td><td>A     </td><td>A     </td></tr>\n",
       "<tr><td><i style='opacity: 0.6'>8</i></td><td style=\"text-align: right;\">   1.90001e+11</td><td>PA                </td><td style=\"text-align: right;\">        19</td><td>M        </td><td style=\"text-align: right;\">                1</td><td style=\"text-align: right;\">                1</td><td style=\"text-align: right;\">          1</td><td style=\"text-align: right;\">       354.2</td><td style=\"text-align: right;\">       375.5</td><td style=\"text-align: right;\">              460</td><td>D     </td><td>D     </td><td style=\"text-align: right;\">     4</td><td>B     </td><td>A     </td><td>B     </td></tr>\n",
       "<tr><td><i style='opacity: 0.6'>9</i></td><td style=\"text-align: right;\">   1.90001e+11</td><td>PA                </td><td style=\"text-align: right;\">        17</td><td>F        </td><td style=\"text-align: right;\">                1</td><td style=\"text-align: right;\">                3</td><td style=\"text-align: right;\">          1</td><td style=\"text-align: right;\">       515.3</td><td style=\"text-align: right;\">       397  </td><td style=\"text-align: right;\">              540</td><td>E     </td><td>E     </td><td style=\"text-align: right;\">     4</td><td>B     </td><td>A     </td><td>A     </td></tr>\n",
       "</tbody>\n",
       "</table>"
      ],
      "text/plain": [
       "  #    NU_INSCRICAO  SG_UF_RESIDENCIA      NU_IDADE  TP_SEXO      TP_ESTADO_CIVIL    TP_ST_CONCLUSAO    TP_ESCOLA    NU_NOTA_LC    NU_NOTA_MT    NU_NOTA_REDACAO  Q001    Q002      Q005  Q006    Q024    Q025\n",
       "  0     1.90001e+11  PA                          21  M                          1                  1            1         497.3         369.1                780  D       E            7  B       B       A\n",
       "  1     1.90001e+11  PA                          16  F                          1                  3            1         482.3         416.5                600  D       E            5  B       A       A\n",
       "  2     1.90001e+11  PA                          18  F                          1                  2            3         582.6         571.5                640  H       E            3  C       C       B\n",
       "  3     1.90001e+11  PA                          23  M                          0                  2            2         nan           nan                  nan  D       D            3  C       A       A\n",
       "  4     1.90001e+11  PA                          23  M                          1                  1            1         nan           nan                  nan  B       C            5  C       A       A\n",
       "  5     1.90001e+11  PA                          31  M                          1                  1            1         582           605.3                580  C       C            5  C       A       A\n",
       "  6     1.90001e+11  PA                          30  F                          2                  1            1         464.3         581.5                360  B       B            4  C       A       B\n",
       "  7     1.90001e+11  PA                          26  F                          0                  2            2         395.6         473.8                480  B       B            4  B       A       A\n",
       "  8     1.90001e+11  PA                          19  M                          1                  1            1         354.2         375.5                460  D       D            4  B       A       B\n",
       "  9     1.90001e+11  PA                          17  F                          1                  3            1         515.3         397                  540  E       E            4  B       A       A"
      ]
     },
     "execution_count": 4,
     "metadata": {},
     "output_type": "execute_result"
    }
   ],
   "source": [
    "data.head()"
   ]
  },
  {
   "cell_type": "markdown",
   "metadata": {},
   "source": [
    "Os números de média, máximo e mínimo parecem não trazer diferenças relevantes entre as notas dos candidatos em realação ao sexo."
   ]
  },
  {
   "cell_type": "markdown",
   "metadata": {},
   "source": [
    "# Redação"
   ]
  },
  {
   "cell_type": "code",
   "execution_count": 5,
   "metadata": {},
   "outputs": [
    {
     "data": {
      "text/plain": [
       "(  #  TP_SEXO      NU_NOTA_REDACAO_max\n",
       "   0  M                           1000\n",
       "   1  F                           1000,\n",
       "   #  TP_SEXO      NU_NOTA_REDACAO_min\n",
       "   0  M                             40\n",
       "   1  F                             40,\n",
       "   #  TP_SEXO      NU_NOTA_REDACAO_mean\n",
       "   0  F                         577.159\n",
       "   1  M                         562.396)"
      ]
     },
     "execution_count": 5,
     "metadata": {},
     "output_type": "execute_result"
    }
   ],
   "source": [
    "data['TP_SEXO','NU_NOTA_REDACAO'].groupby('TP_SEXO', vx.agg.max), data.filter(data.NU_NOTA_REDACAO > 0)['TP_SEXO','NU_NOTA_REDACAO'].groupby('TP_SEXO', vx.agg.min), data['TP_SEXO','NU_NOTA_REDACAO'].groupby('TP_SEXO', vx.agg.mean)"
   ]
  },
  {
   "cell_type": "markdown",
   "metadata": {},
   "source": [
    "# Matemática"
   ]
  },
  {
   "cell_type": "code",
   "execution_count": 6,
   "metadata": {},
   "outputs": [
    {
     "data": {
      "text/plain": [
       "(  #  TP_SEXO      NU_NOTA_MT_max\n",
       "   0  M                     985.5\n",
       "   1  F                     985,\n",
       "   #  TP_SEXO      NU_NOTA_MT_min\n",
       "   0  F                       359\n",
       "   1  M                       359,\n",
       "   #  TP_SEXO      NU_NOTA_MT_mean\n",
       "   0  M                    547.975\n",
       "   1  F                    506.167)"
      ]
     },
     "execution_count": 6,
     "metadata": {},
     "output_type": "execute_result"
    }
   ],
   "source": [
    "data['TP_SEXO','NU_NOTA_MT'].groupby('TP_SEXO', vx.agg.max), data.filter(data.NU_NOTA_MT > 0)['TP_SEXO','NU_NOTA_MT'].groupby('TP_SEXO', vx.agg.min), data['TP_SEXO','NU_NOTA_MT'].groupby('TP_SEXO', vx.agg.mean)"
   ]
  },
  {
   "cell_type": "markdown",
   "metadata": {},
   "source": [
    "# Linguagens e Códigos"
   ]
  },
  {
   "cell_type": "code",
   "execution_count": 7,
   "metadata": {},
   "outputs": [
    {
     "data": {
      "text/plain": [
       "(  #  TP_SEXO      NU_NOTA_LC_max\n",
       "   0  F                     801.7\n",
       "   1  M                     801.7,\n",
       "   #  TP_SEXO      NU_NOTA_LC_min\n",
       "   0  F                       322\n",
       "   1  M                       322,\n",
       "   #  TP_SEXO      NU_NOTA_LC_mean\n",
       "   0  F                    519.763\n",
       "   1  M                    521.629)"
      ]
     },
     "execution_count": 7,
     "metadata": {},
     "output_type": "execute_result"
    }
   ],
   "source": [
    "data['TP_SEXO','NU_NOTA_LC'].groupby('TP_SEXO', vx.agg.max), data.filter(data.NU_NOTA_LC > 0)['TP_SEXO','NU_NOTA_LC'].groupby('TP_SEXO', vx.agg.min), data['TP_SEXO','NU_NOTA_LC'].groupby('TP_SEXO', vx.agg.mean)"
   ]
  },
  {
   "cell_type": "code",
   "execution_count": 8,
   "metadata": {},
   "outputs": [],
   "source": [
    "#Traduzindo as respostas das questões sobre escolaridade dos pais\n",
    "dic={'A':'Nunca estudou.',\n",
    "     'B':'Não completou a 4ª série/5º ano do Ensino Fundamental.',\n",
    "     'C':'Completou a 4ª série/5º ano, mas não completou a 8ª série/9º ano do Ensino Fundamental.',\n",
    "     'D':'Completou a 8ª série/9º ano do Ensino Fundamental, mas não completou o Ensino Médio.',\n",
    "     'E':'Completou o Ensino Médio, mas não completou a Faculdade.',\n",
    "     'F':'Completou a Faculdade, mas não completou a Pós-graduação.',\n",
    "     'G':'Completou a Pós-graduação.',\n",
    "     'H':'Não sei.'}\n",
    "\n",
    "def qus(v1):\n",
    "    data[v1]=data[v1].map(dic)\n",
    "    \n",
    "qus('Q001')\n",
    "qus('Q002')"
   ]
  },
  {
   "cell_type": "markdown",
   "metadata": {},
   "source": [
    "# Grau de escolaridade dos pais dos candidatos \n",
    "\n",
    "Ao realizar a contagem das respostas 'Não sei', percebemos que o número de candidatos que não sabem sobre o grau de escolaridade do próprio pai é 3 vezes maior se comparado a respeito da mãe. Uma das coisas que tal comparação sugere é que esses candidatos não convivam com seus pais.\n",
    "\n",
    "Q001 = Até que série seu pai, ou o homem responsável por você, estudou?                                                                       \n",
    "Q002 = Até que série sua mãe, ou a mulher responsável por você, estudou?"
   ]
  },
  {
   "cell_type": "code",
   "execution_count": 9,
   "metadata": {},
   "outputs": [
    {
     "data": {
      "text/plain": [
       "Completou o Ensino Médio, mas não completou a Faculdade.                                   1308991\n",
       "Não completou a 4ª série/5º ano do Ensino Fundamental.                                     1135816\n",
       "Completou a 4ª série/5º ano, mas não completou a 8ª série/9º ano do Ensino Fundamental.     723518\n",
       "Completou a 8ª série/9º ano do Ensino Fundamental, mas não completou o Ensino Médio.        586620\n",
       "Não sei.                                                                                    444806\n",
       "Completou a Faculdade, mas não completou a Pós-graduação.                                   375721\n",
       "Nunca estudou.                                                                              290615\n",
       "Completou a Pós-graduação.                                                                  229183\n",
       "dtype: int64"
      ]
     },
     "execution_count": 9,
     "metadata": {},
     "output_type": "execute_result"
    }
   ],
   "source": [
    "data['Q001'].value_counts()"
   ]
  },
  {
   "cell_type": "code",
   "execution_count": 10,
   "metadata": {},
   "outputs": [
    {
     "data": {
      "text/plain": [
       "Completou o Ensino Médio, mas não completou a Faculdade.                                   1633692\n",
       "Não completou a 4ª série/5º ano do Ensino Fundamental.                                      854826\n",
       "Completou a 4ª série/5º ano, mas não completou a 8ª série/9º ano do Ensino Fundamental.     686198\n",
       "Completou a 8ª série/9º ano do Ensino Fundamental, mas não completou o Ensino Médio.        667415\n",
       "Completou a Faculdade, mas não completou a Pós-graduação.                                   513711\n",
       "Completou a Pós-graduação.                                                                  399470\n",
       "Nunca estudou.                                                                              194625\n",
       "Não sei.                                                                                    145333\n",
       "dtype: int64"
      ]
     },
     "execution_count": 10,
     "metadata": {},
     "output_type": "execute_result"
    }
   ],
   "source": [
    "data['Q002'].value_counts()"
   ]
  },
  {
   "cell_type": "markdown",
   "metadata": {},
   "source": [
    "# Há relação entre as notas dos candidatos e o grau de escolaridade dos pais?\n",
    "\n",
    "As tabelas abaixo corroboram a relação direta entre as notas dos candidatos e o grau de escolaridade dos pais.\n",
    "Quanto maior a formação acadêmica do pai/mãe, provavelmente maior será a nota do filho."
   ]
  },
  {
   "cell_type": "code",
   "execution_count": 11,
   "metadata": {},
   "outputs": [
    {
     "data": {
      "text/html": [
       "<table>\n",
       "<thead>\n",
       "<tr><th>#                            </th><th>Q001                                               </th><th style=\"text-align: right;\">  NU_NOTA_REDACAO_mean</th></tr>\n",
       "</thead>\n",
       "<tbody>\n",
       "<tr><td><i style='opacity: 0.6'>0</i></td><td>Nunca estudou.                                     </td><td style=\"text-align: right;\">               486.663</td></tr>\n",
       "<tr><td><i style='opacity: 0.6'>1</i></td><td>&#x27;Não completou a 4ª série/5º ano do Ensino Funda...</td><td style=\"text-align: right;\">               524.303</td></tr>\n",
       "<tr><td><i style='opacity: 0.6'>2</i></td><td>Não sei.                                           </td><td style=\"text-align: right;\">               526.842</td></tr>\n",
       "<tr><td><i style='opacity: 0.6'>3</i></td><td>&#x27;Completou a 4ª série/5º ano, mas não completou ...</td><td style=\"text-align: right;\">               549.869</td></tr>\n",
       "<tr><td><i style='opacity: 0.6'>4</i></td><td>&#x27;Completou a 8ª série/9º ano do Ensino Fundament...</td><td style=\"text-align: right;\">               566.11 </td></tr>\n",
       "<tr><td><i style='opacity: 0.6'>5</i></td><td>&#x27;Completou o Ensino Médio, mas não completou a F...</td><td style=\"text-align: right;\">               597.312</td></tr>\n",
       "<tr><td><i style='opacity: 0.6'>6</i></td><td>&#x27;Completou a Faculdade, mas não completou a Pós-...</td><td style=\"text-align: right;\">               667.425</td></tr>\n",
       "<tr><td><i style='opacity: 0.6'>7</i></td><td>Completou a Pós-graduação.                         </td><td style=\"text-align: right;\">               694.973</td></tr>\n",
       "</tbody>\n",
       "</table>"
      ],
      "text/plain": [
       "  #  Q001                                                   NU_NOTA_REDACAO_mean\n",
       "  0  Nunca estudou.                                                      486.663\n",
       "  1  'Não completou a 4ª série/5º ano do Ensino Funda...                 524.303\n",
       "  2  Não sei.                                                            526.842\n",
       "  3  'Completou a 4ª série/5º ano, mas não completou ...                 549.869\n",
       "  4  'Completou a 8ª série/9º ano do Ensino Fundament...                 566.11\n",
       "  5  'Completou o Ensino Médio, mas não completou a F...                 597.312\n",
       "  6  'Completou a Faculdade, mas não completou a Pós-...                 667.425\n",
       "  7  Completou a Pós-graduação.                                          694.973"
      ]
     },
     "execution_count": 11,
     "metadata": {},
     "output_type": "execute_result"
    }
   ],
   "source": [
    "#Em relação à nota de redação(pai)\n",
    "data['NU_NOTA_REDACAO','Q001'].groupby('Q001', vx.agg.mean).sort('NU_NOTA_REDACAO_mean')"
   ]
  },
  {
   "cell_type": "code",
   "execution_count": 12,
   "metadata": {},
   "outputs": [
    {
     "data": {
      "text/html": [
       "<table>\n",
       "<thead>\n",
       "<tr><th>#                            </th><th>Q002                                               </th><th style=\"text-align: right;\">  NU_NOTA_REDACAO_mean</th></tr>\n",
       "</thead>\n",
       "<tbody>\n",
       "<tr><td><i style='opacity: 0.6'>0</i></td><td>Nunca estudou.                                     </td><td style=\"text-align: right;\">               472.774</td></tr>\n",
       "<tr><td><i style='opacity: 0.6'>1</i></td><td>Não sei.                                           </td><td style=\"text-align: right;\">               494.422</td></tr>\n",
       "<tr><td><i style='opacity: 0.6'>2</i></td><td>&#x27;Não completou a 4ª série/5º ano do Ensino Funda...</td><td style=\"text-align: right;\">               513.508</td></tr>\n",
       "<tr><td><i style='opacity: 0.6'>3</i></td><td>&#x27;Completou a 4ª série/5º ano, mas não completou ...</td><td style=\"text-align: right;\">               535.136</td></tr>\n",
       "<tr><td><i style='opacity: 0.6'>4</i></td><td>&#x27;Completou a 8ª série/9º ano do Ensino Fundament...</td><td style=\"text-align: right;\">               550.399</td></tr>\n",
       "<tr><td><i style='opacity: 0.6'>5</i></td><td>&#x27;Completou o Ensino Médio, mas não completou a F...</td><td style=\"text-align: right;\">               583.299</td></tr>\n",
       "<tr><td><i style='opacity: 0.6'>6</i></td><td>&#x27;Completou a Faculdade, mas não completou a Pós-...</td><td style=\"text-align: right;\">               649.122</td></tr>\n",
       "<tr><td><i style='opacity: 0.6'>7</i></td><td>Completou a Pós-graduação.                         </td><td style=\"text-align: right;\">               670.202</td></tr>\n",
       "</tbody>\n",
       "</table>"
      ],
      "text/plain": [
       "  #  Q002                                                   NU_NOTA_REDACAO_mean\n",
       "  0  Nunca estudou.                                                      472.774\n",
       "  1  Não sei.                                                            494.422\n",
       "  2  'Não completou a 4ª série/5º ano do Ensino Funda...                 513.508\n",
       "  3  'Completou a 4ª série/5º ano, mas não completou ...                 535.136\n",
       "  4  'Completou a 8ª série/9º ano do Ensino Fundament...                 550.399\n",
       "  5  'Completou o Ensino Médio, mas não completou a F...                 583.299\n",
       "  6  'Completou a Faculdade, mas não completou a Pós-...                 649.122\n",
       "  7  Completou a Pós-graduação.                                          670.202"
      ]
     },
     "execution_count": 12,
     "metadata": {},
     "output_type": "execute_result"
    }
   ],
   "source": [
    "#Em relação à nota de redação(mãe)\n",
    "data['NU_NOTA_REDACAO','Q002'].groupby('Q002', vx.agg.mean).sort('NU_NOTA_REDACAO_mean')"
   ]
  },
  {
   "cell_type": "code",
   "execution_count": 13,
   "metadata": {},
   "outputs": [
    {
     "data": {
      "text/html": [
       "<table>\n",
       "<thead>\n",
       "<tr><th>#                            </th><th>Q001                                               </th><th style=\"text-align: right;\">  NU_NOTA_MT_mean</th></tr>\n",
       "</thead>\n",
       "<tbody>\n",
       "<tr><td><i style='opacity: 0.6'>0</i></td><td>Nunca estudou.                                     </td><td style=\"text-align: right;\">          466.054</td></tr>\n",
       "<tr><td><i style='opacity: 0.6'>1</i></td><td>&#x27;Não completou a 4ª série/5º ano do Ensino Funda...</td><td style=\"text-align: right;\">          486.408</td></tr>\n",
       "<tr><td><i style='opacity: 0.6'>2</i></td><td>Não sei.                                           </td><td style=\"text-align: right;\">          495.396</td></tr>\n",
       "<tr><td><i style='opacity: 0.6'>3</i></td><td>&#x27;Completou a 4ª série/5º ano, mas não completou ...</td><td style=\"text-align: right;\">          505.344</td></tr>\n",
       "<tr><td><i style='opacity: 0.6'>4</i></td><td>&#x27;Completou a 8ª série/9º ano do Ensino Fundament...</td><td style=\"text-align: right;\">          515.698</td></tr>\n",
       "<tr><td><i style='opacity: 0.6'>5</i></td><td>&#x27;Completou o Ensino Médio, mas não completou a F...</td><td style=\"text-align: right;\">          538.877</td></tr>\n",
       "<tr><td><i style='opacity: 0.6'>6</i></td><td>&#x27;Completou a Faculdade, mas não completou a Pós-...</td><td style=\"text-align: right;\">          600.193</td></tr>\n",
       "<tr><td><i style='opacity: 0.6'>7</i></td><td>Completou a Pós-graduação.                         </td><td style=\"text-align: right;\">          624.027</td></tr>\n",
       "</tbody>\n",
       "</table>"
      ],
      "text/plain": [
       "  #  Q001                                                   NU_NOTA_MT_mean\n",
       "  0  Nunca estudou.                                                 466.054\n",
       "  1  'Não completou a 4ª série/5º ano do Ensino Funda...            486.408\n",
       "  2  Não sei.                                                       495.396\n",
       "  3  'Completou a 4ª série/5º ano, mas não completou ...            505.344\n",
       "  4  'Completou a 8ª série/9º ano do Ensino Fundament...            515.698\n",
       "  5  'Completou o Ensino Médio, mas não completou a F...            538.877\n",
       "  6  'Completou a Faculdade, mas não completou a Pós-...            600.193\n",
       "  7  Completou a Pós-graduação.                                     624.027"
      ]
     },
     "execution_count": 13,
     "metadata": {},
     "output_type": "execute_result"
    }
   ],
   "source": [
    "#Em relação à nota de matemática(pai)\n",
    "data['NU_NOTA_MT','Q001'].groupby('Q001', vx.agg.mean).sort('NU_NOTA_MT_mean')"
   ]
  },
  {
   "cell_type": "code",
   "execution_count": 14,
   "metadata": {},
   "outputs": [
    {
     "data": {
      "text/html": [
       "<table>\n",
       "<thead>\n",
       "<tr><th>#                            </th><th>Q002                                               </th><th style=\"text-align: right;\">  NU_NOTA_MT_mean</th></tr>\n",
       "</thead>\n",
       "<tbody>\n",
       "<tr><td><i style='opacity: 0.6'>0</i></td><td>Nunca estudou.                                     </td><td style=\"text-align: right;\">          459.828</td></tr>\n",
       "<tr><td><i style='opacity: 0.6'>1</i></td><td>&#x27;Não completou a 4ª série/5º ano do Ensino Funda...</td><td style=\"text-align: right;\">          480.021</td></tr>\n",
       "<tr><td><i style='opacity: 0.6'>2</i></td><td>Não sei.                                           </td><td style=\"text-align: right;\">          484.861</td></tr>\n",
       "<tr><td><i style='opacity: 0.6'>3</i></td><td>&#x27;Completou a 4ª série/5º ano, mas não completou ...</td><td style=\"text-align: right;\">          495.997</td></tr>\n",
       "<tr><td><i style='opacity: 0.6'>4</i></td><td>&#x27;Completou a 8ª série/9º ano do Ensino Fundament...</td><td style=\"text-align: right;\">          504.996</td></tr>\n",
       "<tr><td><i style='opacity: 0.6'>5</i></td><td>&#x27;Completou o Ensino Médio, mas não completou a F...</td><td style=\"text-align: right;\">          528.266</td></tr>\n",
       "<tr><td><i style='opacity: 0.6'>6</i></td><td>&#x27;Completou a Faculdade, mas não completou a Pós-...</td><td style=\"text-align: right;\">          583.243</td></tr>\n",
       "<tr><td><i style='opacity: 0.6'>7</i></td><td>Completou a Pós-graduação.                         </td><td style=\"text-align: right;\">          598.863</td></tr>\n",
       "</tbody>\n",
       "</table>"
      ],
      "text/plain": [
       "  #  Q002                                                   NU_NOTA_MT_mean\n",
       "  0  Nunca estudou.                                                 459.828\n",
       "  1  'Não completou a 4ª série/5º ano do Ensino Funda...            480.021\n",
       "  2  Não sei.                                                       484.861\n",
       "  3  'Completou a 4ª série/5º ano, mas não completou ...            495.997\n",
       "  4  'Completou a 8ª série/9º ano do Ensino Fundament...            504.996\n",
       "  5  'Completou o Ensino Médio, mas não completou a F...            528.266\n",
       "  6  'Completou a Faculdade, mas não completou a Pós-...            583.243\n",
       "  7  Completou a Pós-graduação.                                     598.863"
      ]
     },
     "execution_count": 14,
     "metadata": {},
     "output_type": "execute_result"
    }
   ],
   "source": [
    "#Em relação à nota de matemática(mãe)\n",
    "data['NU_NOTA_MT','Q002'].groupby('Q002', vx.agg.mean).sort('NU_NOTA_MT_mean')"
   ]
  },
  {
   "cell_type": "markdown",
   "metadata": {},
   "source": [
    "# A relação global anterior se reflete nos estados do país separadamente?\n",
    "A relação se mantém nos estados em separado."
   ]
  },
  {
   "cell_type": "markdown",
   "metadata": {},
   "source": [
    "# Bahia"
   ]
  },
  {
   "cell_type": "code",
   "execution_count": 15,
   "metadata": {},
   "outputs": [
    {
     "data": {
      "text/html": [
       "<table>\n",
       "<thead>\n",
       "<tr><th>#                            </th><th>Q001                                               </th><th style=\"text-align: right;\">  NU_NOTA_REDACAO_mean</th></tr>\n",
       "</thead>\n",
       "<tbody>\n",
       "<tr><td><i style='opacity: 0.6'>0</i></td><td>Nunca estudou.                                     </td><td style=\"text-align: right;\">               486.001</td></tr>\n",
       "<tr><td><i style='opacity: 0.6'>1</i></td><td>Não sei.                                           </td><td style=\"text-align: right;\">               519.549</td></tr>\n",
       "<tr><td><i style='opacity: 0.6'>2</i></td><td>&#x27;Não completou a 4ª série/5º ano do Ensino Funda...</td><td style=\"text-align: right;\">               520.966</td></tr>\n",
       "<tr><td><i style='opacity: 0.6'>3</i></td><td>&#x27;Completou a 4ª série/5º ano, mas não completou ...</td><td style=\"text-align: right;\">               543.912</td></tr>\n",
       "<tr><td><i style='opacity: 0.6'>4</i></td><td>&#x27;Completou a 8ª série/9º ano do Ensino Fundament...</td><td style=\"text-align: right;\">               558.393</td></tr>\n",
       "<tr><td><i style='opacity: 0.6'>5</i></td><td>&#x27;Completou o Ensino Médio, mas não completou a F...</td><td style=\"text-align: right;\">               591.674</td></tr>\n",
       "<tr><td><i style='opacity: 0.6'>6</i></td><td>&#x27;Completou a Faculdade, mas não completou a Pós-...</td><td style=\"text-align: right;\">               666.269</td></tr>\n",
       "<tr><td><i style='opacity: 0.6'>7</i></td><td>Completou a Pós-graduação.                         </td><td style=\"text-align: right;\">               692.793</td></tr>\n",
       "</tbody>\n",
       "</table>"
      ],
      "text/plain": [
       "  #  Q001                                                   NU_NOTA_REDACAO_mean\n",
       "  0  Nunca estudou.                                                      486.001\n",
       "  1  Não sei.                                                            519.549\n",
       "  2  'Não completou a 4ª série/5º ano do Ensino Funda...                 520.966\n",
       "  3  'Completou a 4ª série/5º ano, mas não completou ...                 543.912\n",
       "  4  'Completou a 8ª série/9º ano do Ensino Fundament...                 558.393\n",
       "  5  'Completou o Ensino Médio, mas não completou a F...                 591.674\n",
       "  6  'Completou a Faculdade, mas não completou a Pós-...                 666.269\n",
       "  7  Completou a Pós-graduação.                                          692.793"
      ]
     },
     "execution_count": 15,
     "metadata": {},
     "output_type": "execute_result"
    }
   ],
   "source": [
    "data.filter(data.SG_UF_RESIDENCIA == 'BA')['NU_NOTA_REDACAO','Q001'].groupby('Q001', vx.agg.mean).sort('NU_NOTA_REDACAO_mean')"
   ]
  },
  {
   "cell_type": "markdown",
   "metadata": {},
   "source": [
    "# Rio de Janeiro"
   ]
  },
  {
   "cell_type": "code",
   "execution_count": 16,
   "metadata": {},
   "outputs": [
    {
     "data": {
      "text/html": [
       "<table>\n",
       "<thead>\n",
       "<tr><th>#                            </th><th>Q002                                               </th><th style=\"text-align: right;\">  NU_NOTA_REDACAO_mean</th></tr>\n",
       "</thead>\n",
       "<tbody>\n",
       "<tr><td><i style='opacity: 0.6'>0</i></td><td>Nunca estudou.                                     </td><td style=\"text-align: right;\">               483.015</td></tr>\n",
       "<tr><td><i style='opacity: 0.6'>1</i></td><td>Não sei.                                           </td><td style=\"text-align: right;\">               521.794</td></tr>\n",
       "<tr><td><i style='opacity: 0.6'>2</i></td><td>&#x27;Não completou a 4ª série/5º ano do Ensino Funda...</td><td style=\"text-align: right;\">               525.84 </td></tr>\n",
       "<tr><td><i style='opacity: 0.6'>3</i></td><td>&#x27;Completou a 4ª série/5º ano, mas não completou ...</td><td style=\"text-align: right;\">               548.37 </td></tr>\n",
       "<tr><td><i style='opacity: 0.6'>4</i></td><td>&#x27;Completou a 8ª série/9º ano do Ensino Fundament...</td><td style=\"text-align: right;\">               566.756</td></tr>\n",
       "<tr><td><i style='opacity: 0.6'>5</i></td><td>&#x27;Completou o Ensino Médio, mas não completou a F...</td><td style=\"text-align: right;\">               601.129</td></tr>\n",
       "<tr><td><i style='opacity: 0.6'>6</i></td><td>&#x27;Completou a Faculdade, mas não completou a Pós-...</td><td style=\"text-align: right;\">               683.081</td></tr>\n",
       "<tr><td><i style='opacity: 0.6'>7</i></td><td>Completou a Pós-graduação.                         </td><td style=\"text-align: right;\">               710.971</td></tr>\n",
       "</tbody>\n",
       "</table>"
      ],
      "text/plain": [
       "  #  Q002                                                   NU_NOTA_REDACAO_mean\n",
       "  0  Nunca estudou.                                                      483.015\n",
       "  1  Não sei.                                                            521.794\n",
       "  2  'Não completou a 4ª série/5º ano do Ensino Funda...                 525.84\n",
       "  3  'Completou a 4ª série/5º ano, mas não completou ...                 548.37\n",
       "  4  'Completou a 8ª série/9º ano do Ensino Fundament...                 566.756\n",
       "  5  'Completou o Ensino Médio, mas não completou a F...                 601.129\n",
       "  6  'Completou a Faculdade, mas não completou a Pós-...                 683.081\n",
       "  7  Completou a Pós-graduação.                                          710.971"
      ]
     },
     "execution_count": 16,
     "metadata": {},
     "output_type": "execute_result"
    }
   ],
   "source": [
    "data.filter(data.SG_UF_RESIDENCIA == 'RJ')['NU_NOTA_REDACAO','Q002'].groupby('Q002', vx.agg.mean).sort('NU_NOTA_REDACAO_mean')"
   ]
  },
  {
   "cell_type": "markdown",
   "metadata": {},
   "source": [
    "# Minas Gerais"
   ]
  },
  {
   "cell_type": "code",
   "execution_count": 17,
   "metadata": {},
   "outputs": [
    {
     "data": {
      "text/html": [
       "<table>\n",
       "<thead>\n",
       "<tr><th>#                            </th><th>Q001                                               </th><th style=\"text-align: right;\">  NU_NOTA_LC_mean</th></tr>\n",
       "</thead>\n",
       "<tbody>\n",
       "<tr><td><i style='opacity: 0.6'>0</i></td><td>Nunca estudou.                                     </td><td style=\"text-align: right;\">          497.687</td></tr>\n",
       "<tr><td><i style='opacity: 0.6'>1</i></td><td>&#x27;Não completou a 4ª série/5º ano do Ensino Funda...</td><td style=\"text-align: right;\">          512.236</td></tr>\n",
       "<tr><td><i style='opacity: 0.6'>2</i></td><td>Não sei.                                           </td><td style=\"text-align: right;\">          519.656</td></tr>\n",
       "<tr><td><i style='opacity: 0.6'>3</i></td><td>&#x27;Completou a 4ª série/5º ano, mas não completou ...</td><td style=\"text-align: right;\">          522.664</td></tr>\n",
       "<tr><td><i style='opacity: 0.6'>4</i></td><td>&#x27;Completou a 8ª série/9º ano do Ensino Fundament...</td><td style=\"text-align: right;\">          529.075</td></tr>\n",
       "<tr><td><i style='opacity: 0.6'>5</i></td><td>&#x27;Completou o Ensino Médio, mas não completou a F...</td><td style=\"text-align: right;\">          541.23 </td></tr>\n",
       "<tr><td><i style='opacity: 0.6'>6</i></td><td>&#x27;Completou a Faculdade, mas não completou a Pós-...</td><td style=\"text-align: right;\">          565.747</td></tr>\n",
       "<tr><td><i style='opacity: 0.6'>7</i></td><td>Completou a Pós-graduação.                         </td><td style=\"text-align: right;\">          574.748</td></tr>\n",
       "</tbody>\n",
       "</table>"
      ],
      "text/plain": [
       "  #  Q001                                                   NU_NOTA_LC_mean\n",
       "  0  Nunca estudou.                                                 497.687\n",
       "  1  'Não completou a 4ª série/5º ano do Ensino Funda...            512.236\n",
       "  2  Não sei.                                                       519.656\n",
       "  3  'Completou a 4ª série/5º ano, mas não completou ...            522.664\n",
       "  4  'Completou a 8ª série/9º ano do Ensino Fundament...            529.075\n",
       "  5  'Completou o Ensino Médio, mas não completou a F...            541.23\n",
       "  6  'Completou a Faculdade, mas não completou a Pós-...            565.747\n",
       "  7  Completou a Pós-graduação.                                     574.748"
      ]
     },
     "execution_count": 17,
     "metadata": {},
     "output_type": "execute_result"
    }
   ],
   "source": [
    "data.filter(data.SG_UF_RESIDENCIA == 'MG')['NU_NOTA_LC','Q001'].groupby('Q001', vx.agg.mean).sort('NU_NOTA_LC_mean')"
   ]
  },
  {
   "cell_type": "markdown",
   "metadata": {},
   "source": [
    "# São Paulo"
   ]
  },
  {
   "cell_type": "code",
   "execution_count": 18,
   "metadata": {},
   "outputs": [
    {
     "data": {
      "text/html": [
       "<table>\n",
       "<thead>\n",
       "<tr><th>#                            </th><th>Q001                                               </th><th style=\"text-align: right;\">  NU_NOTA_REDACAO_mean</th></tr>\n",
       "</thead>\n",
       "<tbody>\n",
       "<tr><td><i style='opacity: 0.6'>0</i></td><td>Nunca estudou.                                     </td><td style=\"text-align: right;\">               489.177</td></tr>\n",
       "<tr><td><i style='opacity: 0.6'>1</i></td><td>&#x27;Não completou a 4ª série/5º ano do Ensino Funda...</td><td style=\"text-align: right;\">               530.271</td></tr>\n",
       "<tr><td><i style='opacity: 0.6'>2</i></td><td>Não sei.                                           </td><td style=\"text-align: right;\">               533.885</td></tr>\n",
       "<tr><td><i style='opacity: 0.6'>3</i></td><td>&#x27;Completou a 4ª série/5º ano, mas não completou ...</td><td style=\"text-align: right;\">               554.012</td></tr>\n",
       "<tr><td><i style='opacity: 0.6'>4</i></td><td>&#x27;Completou a 8ª série/9º ano do Ensino Fundament...</td><td style=\"text-align: right;\">               566.587</td></tr>\n",
       "<tr><td><i style='opacity: 0.6'>5</i></td><td>&#x27;Completou o Ensino Médio, mas não completou a F...</td><td style=\"text-align: right;\">               595.469</td></tr>\n",
       "<tr><td><i style='opacity: 0.6'>6</i></td><td>&#x27;Completou a Faculdade, mas não completou a Pós-...</td><td style=\"text-align: right;\">               662.57 </td></tr>\n",
       "<tr><td><i style='opacity: 0.6'>7</i></td><td>Completou a Pós-graduação.                         </td><td style=\"text-align: right;\">               688.672</td></tr>\n",
       "</tbody>\n",
       "</table>"
      ],
      "text/plain": [
       "  #  Q001                                                   NU_NOTA_REDACAO_mean\n",
       "  0  Nunca estudou.                                                      489.177\n",
       "  1  'Não completou a 4ª série/5º ano do Ensino Funda...                 530.271\n",
       "  2  Não sei.                                                            533.885\n",
       "  3  'Completou a 4ª série/5º ano, mas não completou ...                 554.012\n",
       "  4  'Completou a 8ª série/9º ano do Ensino Fundament...                 566.587\n",
       "  5  'Completou o Ensino Médio, mas não completou a F...                 595.469\n",
       "  6  'Completou a Faculdade, mas não completou a Pós-...                 662.57\n",
       "  7  Completou a Pós-graduação.                                          688.672"
      ]
     },
     "execution_count": 18,
     "metadata": {},
     "output_type": "execute_result"
    }
   ],
   "source": [
    "data.filter(data.SG_UF_RESIDENCIA == 'SP')['NU_NOTA_REDACAO','Q001'].groupby('Q001', vx.agg.mean).sort('NU_NOTA_REDACAO_mean')"
   ]
  },
  {
   "cell_type": "markdown",
   "metadata": {},
   "source": [
    "# Quais estados possuem a maior e menor média de redação, em uma visão global?"
   ]
  },
  {
   "cell_type": "markdown",
   "metadata": {},
   "source": [
    "# Redação"
   ]
  },
  {
   "cell_type": "code",
   "execution_count": 19,
   "metadata": {},
   "outputs": [],
   "source": [
    "nota_uf = data.filter(data.NU_NOTA_REDACAO >= 0)['NU_NOTA_REDACAO','SG_UF_RESIDENCIA'].groupby('SG_UF_RESIDENCIA', vx.agg.mean).sort('NU_NOTA_REDACAO_mean')\n",
    "x = nota_uf.SG_UF_RESIDENCIA.to_numpy()\n",
    "y = nota_uf.NU_NOTA_REDACAO_mean.to_numpy()"
   ]
  },
  {
   "cell_type": "markdown",
   "metadata": {},
   "source": [
    "O gráfico nos mostra que os estados do Rio de Janeiro e Amazonas possuem a maior e menor média respectivamente. \n",
    "A diferença entre eles é de 89.2 pontos. Essa diferença é o suficiente para determinar se um teve um desempenho melhor que o outro?"
   ]
  },
  {
   "cell_type": "code",
   "execution_count": 46,
   "metadata": {},
   "outputs": [
    {
     "data": {
      "image/png": "[encoded data removed]",
      "text/plain": [
       "<Figure size 864x576 with 1 Axes>"
      ]
     },
     "metadata": {},
     "output_type": "display_data"
    }
   ],
   "source": [
    "plt.figure(figsize=[12,8])\n",
    "plt.title('Média entre estados')\n",
    "sns.barplot(x,y);"
   ]
  },
  {
   "cell_type": "code",
   "execution_count": 21,
   "metadata": {
    "scrolled": true
   },
   "outputs": [
    {
     "data": {
      "image/png": "[encoded data removed]",
      "text/plain": [
       "<Figure size 432x288 with 1 Axes>"
      ]
     },
     "metadata": {},
     "output_type": "display_data"
    }
   ],
   "source": [
    "#distribuição das notas RJ\n",
    "sns.distplot(data.filter((data.SG_UF_RESIDENCIA =='RJ')&(data.NU_NOTA_REDACAO>=0))['NU_NOTA_REDACAO'].to_numpy(),50, hist=False);"
   ]
  },
  {
   "cell_type": "code",
   "execution_count": 22,
   "metadata": {},
   "outputs": [
    {
     "data": {
      "image/png": "[encoded data removed]",
      "text/plain": [
       "<Figure size 432x288 with 1 Axes>"
      ]
     },
     "metadata": {},
     "output_type": "display_data"
    }
   ],
   "source": [
    "#distribuição das notas AM\n",
    "sns.distplot(data.filter((data.SG_UF_RESIDENCIA =='AM')&(data.NU_NOTA_REDACAO>=0))['NU_NOTA_REDACAO'].to_numpy(),50, hist=False);"
   ]
  },
  {
   "cell_type": "markdown",
   "metadata": {},
   "source": [
    "A curva da distribuição das notas está longe de ser uma curva normal, acredito que será bem difícil tentar trazer para esse formato. Sendo assim iremos remover os outliers através do IQR e adotar um teste de hipótese não paramétrico."
   ]
  },
  {
   "cell_type": "markdown",
   "metadata": {},
   "source": [
    "# IQR"
   ]
  },
  {
   "cell_type": "code",
   "execution_count": 23,
   "metadata": {},
   "outputs": [
    {
     "data": {
      "text/plain": [
       "(259279, 81209)"
      ]
     },
     "execution_count": 23,
     "metadata": {},
     "output_type": "execute_result"
    }
   ],
   "source": [
    "#Definindo as variáveis\n",
    "xr = np.sort(data.filter((data.SG_UF_RESIDENCIA =='RJ')&(data.NU_NOTA_REDACAO>=0))['NU_NOTA_REDACAO'].to_numpy())\n",
    "xa = np.sort(data.filter((data.SG_UF_RESIDENCIA =='AM')&(data.NU_NOTA_REDACAO>=0))['NU_NOTA_REDACAO'].to_numpy())\n",
    "len(xr), len(xa)"
   ]
  },
  {
   "cell_type": "code",
   "execution_count": 24,
   "metadata": {},
   "outputs": [],
   "source": [
    "#Definindo os valores de Q1 e Q3\n",
    "Q1r = np.quantile(xr, 0.25)\n",
    "Q3r = np.quantile(xr, 0.75)\n",
    "Q1a = np.quantile(xa, 0.25)\n",
    "Q3a = np.quantile(xa, 0.75)"
   ]
  },
  {
   "cell_type": "code",
   "execution_count": 25,
   "metadata": {},
   "outputs": [
    {
     "data": {
      "text/plain": [
       "(200.0, 180.0)"
      ]
     },
     "execution_count": 25,
     "metadata": {},
     "output_type": "execute_result"
    }
   ],
   "source": [
    "#Definindo os valores de IQR\n",
    "IQRr = Q3r - Q1r\n",
    "IQRa = Q3a - Q1a\n",
    "\n",
    "IQRr, IQRa"
   ]
  },
  {
   "cell_type": "code",
   "execution_count": 26,
   "metadata": {},
   "outputs": [
    {
     "data": {
      "text/plain": [
       "(220.0, 1020.0, 170.0, 890.0)"
      ]
     },
     "execution_count": 26,
     "metadata": {},
     "output_type": "execute_result"
    }
   ],
   "source": [
    "#Limites inferior e superior\n",
    "lower_limitr = Q1r - 1.5*IQRr\n",
    "upper_limitr = Q3r + 1.5*IQRr\n",
    "lower_limita = Q1a - 1.5*IQRa\n",
    "upper_limita = Q3a + 1.5*IQRa\n",
    "lower_limitr, upper_limitr, lower_limita, upper_limita"
   ]
  },
  {
   "cell_type": "code",
   "execution_count": 27,
   "metadata": {},
   "outputs": [
    {
     "data": {
      "text/plain": [
       "(250448, 75377)"
      ]
     },
     "execution_count": 27,
     "metadata": {},
     "output_type": "execute_result"
    }
   ],
   "source": [
    "#Removendo os outliers\n",
    "r = data.filter((data.SG_UF_RESIDENCIA =='RJ') & (data.NU_NOTA_REDACAO>lower_limitr) & (data.NU_NOTA_REDACAO<upper_limitr))['NU_NOTA_REDACAO'].to_numpy()\n",
    "a = data.filter((data.SG_UF_RESIDENCIA =='AM') & (data.NU_NOTA_REDACAO>lower_limita) & (data.NU_NOTA_REDACAO<upper_limita))['NU_NOTA_REDACAO'].to_numpy()\n",
    "len(r), len(a)"
   ]
  },
  {
   "cell_type": "code",
   "execution_count": 30,
   "metadata": {},
   "outputs": [
    {
     "data": {
      "image/png": "[encoded data removed]",
      "text/plain": [
       "<Figure size 432x288 with 1 Axes>"
      ]
     },
     "metadata": {},
     "output_type": "display_data"
    }
   ],
   "source": [
    "#Nova distribuição RJ\n",
    "sns.distplot(r, hist=False);\n"
   ]
  },
  {
   "cell_type": "code",
   "execution_count": 29,
   "metadata": {},
   "outputs": [
    {
     "data": {
      "image/png": "[encoded data removed]",
      "text/plain": [
       "<Figure size 432x288 with 1 Axes>"
      ]
     },
     "metadata": {},
     "output_type": "display_data"
    }
   ],
   "source": [
    "#Nova distribuição AM\n",
    "sns.distplot(a, hist=False);"
   ]
  },
  {
   "cell_type": "markdown",
   "metadata": {},
   "source": [
    "Na comparação entre as distribuições ao invés de usarmos toda a população, colheremos 60000 pontos de dados de forma randômica. É imprescindível que as amostras possuam carcterísticas estatísticas extremamente próximas às de suas populações."
   ]
  },
  {
   "cell_type": "code",
   "execution_count": 31,
   "metadata": {},
   "outputs": [
    {
     "data": {
      "text/plain": [
       "(60000, 60000)"
      ]
     },
     "execution_count": 31,
     "metadata": {},
     "output_type": "execute_result"
    }
   ],
   "source": [
    "#Colhendo amostras randômicas de tamanhos iguais\n",
    "r2 = np.random.choice(r, size=60000)\n",
    "a2 = np.random.choice(a, size=60000)\n",
    "\n",
    "len(r2), len(a2)"
   ]
  },
  {
   "cell_type": "markdown",
   "metadata": {},
   "source": [
    "Comparação estatística população X amostra Rio de Janeiro"
   ]
  },
  {
   "cell_type": "code",
   "execution_count": 32,
   "metadata": {},
   "outputs": [
    {
     "data": {
      "text/html": [
       "<div>\n",
       "<style scoped>\n",
       "    .dataframe tbody tr th:only-of-type {\n",
       "        vertical-align: middle;\n",
       "    }\n",
       "\n",
       "    .dataframe tbody tr th {\n",
       "        vertical-align: top;\n",
       "    }\n",
       "\n",
       "    .dataframe thead th {\n",
       "        text-align: right;\n",
       "    }\n",
       "</style>\n",
       "<table border=\"1\" class=\"dataframe\">\n",
       "  <thead>\n",
       "    <tr style=\"text-align: right;\">\n",
       "      <th></th>\n",
       "      <th>r</th>\n",
       "      <th>r2</th>\n",
       "    </tr>\n",
       "  </thead>\n",
       "  <tbody>\n",
       "    <tr>\n",
       "      <th>count</th>\n",
       "      <td>250448.000000</td>\n",
       "      <td>60000.000000</td>\n",
       "    </tr>\n",
       "    <tr>\n",
       "      <th>mean</th>\n",
       "      <td>618.216875</td>\n",
       "      <td>617.152667</td>\n",
       "    </tr>\n",
       "    <tr>\n",
       "      <th>std</th>\n",
       "      <td>157.435437</td>\n",
       "      <td>157.178957</td>\n",
       "    </tr>\n",
       "    <tr>\n",
       "      <th>min</th>\n",
       "      <td>240.000000</td>\n",
       "      <td>240.000000</td>\n",
       "    </tr>\n",
       "    <tr>\n",
       "      <th>25%</th>\n",
       "      <td>520.000000</td>\n",
       "      <td>520.000000</td>\n",
       "    </tr>\n",
       "    <tr>\n",
       "      <th>50%</th>\n",
       "      <td>600.000000</td>\n",
       "      <td>600.000000</td>\n",
       "    </tr>\n",
       "    <tr>\n",
       "      <th>75%</th>\n",
       "      <td>720.000000</td>\n",
       "      <td>720.000000</td>\n",
       "    </tr>\n",
       "    <tr>\n",
       "      <th>max</th>\n",
       "      <td>1000.000000</td>\n",
       "      <td>1000.000000</td>\n",
       "    </tr>\n",
       "  </tbody>\n",
       "</table>\n",
       "</div>"
      ],
      "text/plain": [
       "                   r            r2\n",
       "count  250448.000000  60000.000000\n",
       "mean      618.216875    617.152667\n",
       "std       157.435437    157.178957\n",
       "min       240.000000    240.000000\n",
       "25%       520.000000    520.000000\n",
       "50%       600.000000    600.000000\n",
       "75%       720.000000    720.000000\n",
       "max      1000.000000   1000.000000"
      ]
     },
     "execution_count": 32,
     "metadata": {},
     "output_type": "execute_result"
    }
   ],
   "source": [
    "pd.DataFrame(index=pd.DataFrame(r).describe().index,data={'r':pd.DataFrame(r).describe()[0].values,'r2':pd.DataFrame(r2).describe()[0].values})     "
   ]
  },
  {
   "cell_type": "markdown",
   "metadata": {},
   "source": [
    "Comparação estatística população X amostra Amazonas"
   ]
  },
  {
   "cell_type": "code",
   "execution_count": 33,
   "metadata": {},
   "outputs": [
    {
     "data": {
      "text/html": [
       "<div>\n",
       "<style scoped>\n",
       "    .dataframe tbody tr th:only-of-type {\n",
       "        vertical-align: middle;\n",
       "    }\n",
       "\n",
       "    .dataframe tbody tr th {\n",
       "        vertical-align: top;\n",
       "    }\n",
       "\n",
       "    .dataframe thead th {\n",
       "        text-align: right;\n",
       "    }\n",
       "</style>\n",
       "<table border=\"1\" class=\"dataframe\">\n",
       "  <thead>\n",
       "    <tr style=\"text-align: right;\">\n",
       "      <th></th>\n",
       "      <th>a</th>\n",
       "      <th>a2</th>\n",
       "    </tr>\n",
       "  </thead>\n",
       "  <tbody>\n",
       "    <tr>\n",
       "      <th>count</th>\n",
       "      <td>75377.000000</td>\n",
       "      <td>60000.000000</td>\n",
       "    </tr>\n",
       "    <tr>\n",
       "      <th>mean</th>\n",
       "      <td>534.841397</td>\n",
       "      <td>534.848000</td>\n",
       "    </tr>\n",
       "    <tr>\n",
       "      <th>std</th>\n",
       "      <td>130.093310</td>\n",
       "      <td>130.096652</td>\n",
       "    </tr>\n",
       "    <tr>\n",
       "      <th>min</th>\n",
       "      <td>180.000000</td>\n",
       "      <td>180.000000</td>\n",
       "    </tr>\n",
       "    <tr>\n",
       "      <th>25%</th>\n",
       "      <td>460.000000</td>\n",
       "      <td>460.000000</td>\n",
       "    </tr>\n",
       "    <tr>\n",
       "      <th>50%</th>\n",
       "      <td>540.000000</td>\n",
       "      <td>540.000000</td>\n",
       "    </tr>\n",
       "    <tr>\n",
       "      <th>75%</th>\n",
       "      <td>620.000000</td>\n",
       "      <td>620.000000</td>\n",
       "    </tr>\n",
       "    <tr>\n",
       "      <th>max</th>\n",
       "      <td>880.000000</td>\n",
       "      <td>880.000000</td>\n",
       "    </tr>\n",
       "  </tbody>\n",
       "</table>\n",
       "</div>"
      ],
      "text/plain": [
       "                  a            a2\n",
       "count  75377.000000  60000.000000\n",
       "mean     534.841397    534.848000\n",
       "std      130.093310    130.096652\n",
       "min      180.000000    180.000000\n",
       "25%      460.000000    460.000000\n",
       "50%      540.000000    540.000000\n",
       "75%      620.000000    620.000000\n",
       "max      880.000000    880.000000"
      ]
     },
     "execution_count": 33,
     "metadata": {},
     "output_type": "execute_result"
    }
   ],
   "source": [
    "pd.DataFrame(index=pd.DataFrame(a).describe().index,data={'a':pd.DataFrame(a).describe()[0].values,'a2':pd.DataFrame(a2).describe()[0].values})     "
   ]
  },
  {
   "cell_type": "markdown",
   "metadata": {},
   "source": [
    "# Mann Whitney\n",
    "O teste de hipótese nos mostra que as distribuições seguem padrões diferentes. Sendo assim podemos confirmar que o estado do Rio de Janeiro obteve um desempenho melhor em relação ao estado do Amazonas"
   ]
  },
  {
   "cell_type": "code",
   "execution_count": 34,
   "metadata": {},
   "outputs": [
    {
     "name": "stdout",
     "output_type": "stream",
     "text": [
      "Statistics=1254244043.000, p=0.000\n",
      "Distribuições diferentes (H0 rejeitado)\n"
     ]
    }
   ],
   "source": [
    "\n",
    "from scipy.stats import mannwhitneyu\n",
    "stat, p = mannwhitneyu(r2, a2)\n",
    "print('Statistics=%.3f, p=%.3f' % (stat, p))\n",
    "# interpret\n",
    "alpha = 0.05\n",
    "if p > alpha:\n",
    "    print('Distribuições iguais (H0 não rejeitado)')\n",
    "else:\n",
    "    print('Distribuições diferentes (H0 rejeitado)')"
   ]
  },
  {
   "cell_type": "markdown",
   "metadata": {},
   "source": [
    "# Quantidade de membros na residência\n",
    "\n",
    "Embora os dois estados não apresentem uma relação linear clara entre a nota e a quantidade de membros em casa, podemos perceber que o estado do Amazonas é mais sensível a esses números do que o estado do Rio.\n",
    "Um fato curioso é que embora o Rio possua quase 3 vezes mais candidatos, o Amazonas possui muito mais candidatos cujo o número total de membros na residência é de 7 ou mais."
   ]
  },
  {
   "cell_type": "code",
   "execution_count": 35,
   "metadata": {},
   "outputs": [
    {
     "data": {
      "image/png": "[encoded data removed]",
      "text/plain": [
       "<Figure size 432x288 with 1 Axes>"
      ]
     },
     "metadata": {},
     "output_type": "display_data"
    }
   ],
   "source": [
    "plt.plot(data.filter(data.SG_UF_RESIDENCIA == 'RJ')['Q005','NU_NOTA_REDACAO'].to_pandas_df().groupby(['Q005'])['NU_NOTA_REDACAO'].mean());\n",
    "plt.plot(data.filter(data.SG_UF_RESIDENCIA == 'AM')['Q005','NU_NOTA_REDACAO'].to_pandas_df().groupby(['Q005'])['NU_NOTA_REDACAO'].mean());"
   ]
  },
  {
   "cell_type": "code",
   "execution_count": 47,
   "metadata": {},
   "outputs": [
    {
     "data": {
      "text/html": [
       "<div>\n",
       "<style scoped>\n",
       "    .dataframe tbody tr th:only-of-type {\n",
       "        vertical-align: middle;\n",
       "    }\n",
       "\n",
       "    .dataframe tbody tr th {\n",
       "        vertical-align: top;\n",
       "    }\n",
       "\n",
       "    .dataframe thead th {\n",
       "        text-align: right;\n",
       "    }\n",
       "</style>\n",
       "<table border=\"1\" class=\"dataframe\">\n",
       "  <thead>\n",
       "    <tr style=\"text-align: right;\">\n",
       "      <th></th>\n",
       "      <th>nº membros</th>\n",
       "      <th>Rio de Janeiro</th>\n",
       "      <th>Amazonas</th>\n",
       "    </tr>\n",
       "  </thead>\n",
       "  <tbody>\n",
       "    <tr>\n",
       "      <th>1</th>\n",
       "      <td>1</td>\n",
       "      <td>10128</td>\n",
       "      <td>2876</td>\n",
       "    </tr>\n",
       "    <tr>\n",
       "      <th>2</th>\n",
       "      <td>2</td>\n",
       "      <td>53157</td>\n",
       "      <td>11432</td>\n",
       "    </tr>\n",
       "    <tr>\n",
       "      <th>3</th>\n",
       "      <td>3</td>\n",
       "      <td>98723</td>\n",
       "      <td>22234</td>\n",
       "    </tr>\n",
       "    <tr>\n",
       "      <th>4</th>\n",
       "      <td>4</td>\n",
       "      <td>107894</td>\n",
       "      <td>30165</td>\n",
       "    </tr>\n",
       "    <tr>\n",
       "      <th>5</th>\n",
       "      <td>5</td>\n",
       "      <td>45353</td>\n",
       "      <td>22640</td>\n",
       "    </tr>\n",
       "    <tr>\n",
       "      <th>6</th>\n",
       "      <td>6</td>\n",
       "      <td>14832</td>\n",
       "      <td>12451</td>\n",
       "    </tr>\n",
       "    <tr>\n",
       "      <th>7</th>\n",
       "      <td>7</td>\n",
       "      <td>5188</td>\n",
       "      <td>7371</td>\n",
       "    </tr>\n",
       "    <tr>\n",
       "      <th>8</th>\n",
       "      <td>8</td>\n",
       "      <td>2016</td>\n",
       "      <td>4174</td>\n",
       "    </tr>\n",
       "    <tr>\n",
       "      <th>9</th>\n",
       "      <td>9</td>\n",
       "      <td>694</td>\n",
       "      <td>1875</td>\n",
       "    </tr>\n",
       "    <tr>\n",
       "      <th>10</th>\n",
       "      <td>10</td>\n",
       "      <td>390</td>\n",
       "      <td>1488</td>\n",
       "    </tr>\n",
       "    <tr>\n",
       "      <th>11</th>\n",
       "      <td>11</td>\n",
       "      <td>125</td>\n",
       "      <td>482</td>\n",
       "    </tr>\n",
       "    <tr>\n",
       "      <th>12</th>\n",
       "      <td>12</td>\n",
       "      <td>70</td>\n",
       "      <td>375</td>\n",
       "    </tr>\n",
       "    <tr>\n",
       "      <th>13</th>\n",
       "      <td>13</td>\n",
       "      <td>39</td>\n",
       "      <td>192</td>\n",
       "    </tr>\n",
       "    <tr>\n",
       "      <th>14</th>\n",
       "      <td>14</td>\n",
       "      <td>12</td>\n",
       "      <td>108</td>\n",
       "    </tr>\n",
       "    <tr>\n",
       "      <th>15</th>\n",
       "      <td>15</td>\n",
       "      <td>14</td>\n",
       "      <td>98</td>\n",
       "    </tr>\n",
       "    <tr>\n",
       "      <th>16</th>\n",
       "      <td>16</td>\n",
       "      <td>10</td>\n",
       "      <td>39</td>\n",
       "    </tr>\n",
       "    <tr>\n",
       "      <th>17</th>\n",
       "      <td>17</td>\n",
       "      <td>8</td>\n",
       "      <td>21</td>\n",
       "    </tr>\n",
       "    <tr>\n",
       "      <th>18</th>\n",
       "      <td>18</td>\n",
       "      <td>9</td>\n",
       "      <td>21</td>\n",
       "    </tr>\n",
       "    <tr>\n",
       "      <th>19</th>\n",
       "      <td>19</td>\n",
       "      <td>6</td>\n",
       "      <td>8</td>\n",
       "    </tr>\n",
       "    <tr>\n",
       "      <th>20</th>\n",
       "      <td>20</td>\n",
       "      <td>42</td>\n",
       "      <td>37</td>\n",
       "    </tr>\n",
       "  </tbody>\n",
       "</table>\n",
       "</div>"
      ],
      "text/plain": [
       "    nº membros  Rio de Janeiro  Amazonas\n",
       "1            1           10128      2876\n",
       "2            2           53157     11432\n",
       "3            3           98723     22234\n",
       "4            4          107894     30165\n",
       "5            5           45353     22640\n",
       "6            6           14832     12451\n",
       "7            7            5188      7371\n",
       "8            8            2016      4174\n",
       "9            9             694      1875\n",
       "10          10             390      1488\n",
       "11          11             125       482\n",
       "12          12              70       375\n",
       "13          13              39       192\n",
       "14          14              12       108\n",
       "15          15              14        98\n",
       "16          16              10        39\n",
       "17          17               8        21\n",
       "18          18               9        21\n",
       "19          19               6         8\n",
       "20          20              42        37"
      ]
     },
     "execution_count": 47,
     "metadata": {},
     "output_type": "execute_result"
    }
   ],
   "source": [
    "#quantidade de membros\n",
    "rp = pd.DataFrame(index=data.filter(data.SG_UF_RESIDENCIA == 'RJ')['Q005'].value_counts().index, data=data.filter(data.SG_UF_RESIDENCIA == 'RJ')['Q005'].value_counts().values).sort_index()\n",
    "ap = pd.DataFrame(index=data.filter(data.SG_UF_RESIDENCIA == 'AM')['Q005'].value_counts().index, data=data.filter(data.SG_UF_RESIDENCIA == 'AM')['Q005'].value_counts().values).sort_index()\n",
    "pd.DataFrame(data={'nº membros':np.arange(1,21),'Rio de Janeiro':rp[0],'Amazonas':ap[0]})"
   ]
  },
  {
   "cell_type": "markdown",
   "metadata": {},
   "source": [
    "# Renda familiar mensal"
   ]
  },
  {
   "cell_type": "code",
   "execution_count": 37,
   "metadata": {},
   "outputs": [],
   "source": [
    "#traduzindo as respostas da questão Q006\n",
    "dicr= { 'A':'Nenhuma renda.',\n",
    "        'B':'Até R$ 998,00.',\n",
    "        'C':'De R$ 998,01 até R$ 1.497,00.',\n",
    "        'D':'De R$ 1.497,01 até R$ 1.996,00.',\n",
    "        'E':'De R$ 1.996,01 até R$ 2.495,00.',\n",
    "        'F':'De R$ 2.495,01 até R$ 2.994,00.',\n",
    "        'G':'De R$ 2.994,01 até R$ 3.992,00.',\n",
    "        'H':'De R$ 3.992,01 até R$ 4.990,00.',\n",
    "        'I':'De R$ 4.990,01 até R$ 5.988,00.',\n",
    "        'J':'De R$ 5.988,01 até R$ 6.986,00.',\n",
    "        'K':'De R$ 6.986,01 até R$ 7.984,00.',\n",
    "        'L':'De R$ 7.984,01 até R$ 8.982,00.',\n",
    "        'M':'De R$ 8.982,01 até R$ 9.980,00.',\n",
    "        'N':'De R$ 9.980,01 até R$ 11.976,00.',\n",
    "        'O':'De R$ 11.976,01 até R$ 14.970,00.',\n",
    "        'P':'De R$ 14.970,01 até R$ 19.960,00.',\n",
    "        'Q':'Mais de R$ 19.960,00.'\n",
    "      }\n",
    "\n",
    "def qur(v1):\n",
    "    data[v1]=data[v1].map(dicr)\n",
    "    \n",
    "qur('Q006')"
   ]
  },
  {
   "cell_type": "code",
   "execution_count": 38,
   "metadata": {},
   "outputs": [],
   "source": [
    "d = data.filter(data.NU_NOTA_REDACAO >=0)['Q006','NU_NOTA_REDACAO'].groupby('Q006', vx.agg.mean).sort('NU_NOTA_REDACAO_mean')"
   ]
  },
  {
   "cell_type": "markdown",
   "metadata": {},
   "source": [
    "Percebemos outra relação direta, quanto maior a renda mensal da família do candidato, maior tende ser sua nota."
   ]
  },
  {
   "cell_type": "code",
   "execution_count": 39,
   "metadata": {},
   "outputs": [
    {
     "data": {
      "image/png": "[encoded data removed]",
      "text/plain": [
       "<Figure size 432x288 with 1 Axes>"
      ]
     },
     "metadata": {},
     "output_type": "display_data"
    }
   ],
   "source": [
    "plt.xticks(rotation=82)\n",
    "plt.plot(d['Q006'].values,d.values);"
   ]
  },
  {
   "cell_type": "code",
   "execution_count": 40,
   "metadata": {},
   "outputs": [],
   "source": [
    "percj=[]\n",
    "for i in data.filter((data.NU_NOTA_REDACAO >=0)&(data.SG_UF_RESIDENCIA=='RJ'))['Q006'].value_counts().values:\n",
    "    p = (i*100)/259279\n",
    "    percj.append(p)\n"
   ]
  },
  {
   "cell_type": "code",
   "execution_count": 41,
   "metadata": {},
   "outputs": [],
   "source": [
    "perc=[]\n",
    "for i in data.filter((data.NU_NOTA_REDACAO >=0)&(data.SG_UF_RESIDENCIA=='AM'))['Q006'].value_counts().values:\n",
    "    p = (i*100)/81209\n",
    "    perc.append(p)\n"
   ]
  },
  {
   "cell_type": "markdown",
   "metadata": {},
   "source": [
    "Através da tabela abaixo é possível perceber que no estado do Amazonas a concentração das rendas mais inferiores é maior, enquanto o Rio possui uma concentração de rendas maiores maior.\n",
    "Isso nos mostra o quanto o país ainda é desigual nesse quesito e que ainda temos um caminho longo pela frente antes que todos os cidadãos possam ser beneficiados com as mesmas opotunidades."
   ]
  },
  {
   "cell_type": "code",
   "execution_count": 42,
   "metadata": {},
   "outputs": [
    {
     "data": {
      "text/html": [
       "<div>\n",
       "<style scoped>\n",
       "    .dataframe tbody tr th:only-of-type {\n",
       "        vertical-align: middle;\n",
       "    }\n",
       "\n",
       "    .dataframe tbody tr th {\n",
       "        vertical-align: top;\n",
       "    }\n",
       "\n",
       "    .dataframe thead th {\n",
       "        text-align: right;\n",
       "    }\n",
       "</style>\n",
       "<table border=\"1\" class=\"dataframe\">\n",
       "  <thead>\n",
       "    <tr style=\"text-align: right;\">\n",
       "      <th></th>\n",
       "      <th>renda_RJ</th>\n",
       "      <th>%_RJ</th>\n",
       "      <th>renda_AM</th>\n",
       "      <th>%_AM</th>\n",
       "    </tr>\n",
       "  </thead>\n",
       "  <tbody>\n",
       "    <tr>\n",
       "      <th>0</th>\n",
       "      <td>De R$ 998,01 até R$ 1.497,00.</td>\n",
       "      <td>25.183682</td>\n",
       "      <td>Até R$ 998,00.</td>\n",
       "      <td>34.089818</td>\n",
       "    </tr>\n",
       "    <tr>\n",
       "      <th>1</th>\n",
       "      <td>Até R$ 998,00.</td>\n",
       "      <td>15.758700</td>\n",
       "      <td>De R$ 998,01 até R$ 1.497,00.</td>\n",
       "      <td>29.776256</td>\n",
       "    </tr>\n",
       "    <tr>\n",
       "      <th>2</th>\n",
       "      <td>De R$ 1.497,01 até R$ 1.996,00.</td>\n",
       "      <td>11.092298</td>\n",
       "      <td>De R$ 1.497,01 até R$ 1.996,00.</td>\n",
       "      <td>7.595217</td>\n",
       "    </tr>\n",
       "    <tr>\n",
       "      <th>3</th>\n",
       "      <td>De R$ 1.996,01 até R$ 2.495,00.</td>\n",
       "      <td>10.267318</td>\n",
       "      <td>De R$ 1.996,01 até R$ 2.495,00.</td>\n",
       "      <td>7.102661</td>\n",
       "    </tr>\n",
       "    <tr>\n",
       "      <th>4</th>\n",
       "      <td>De R$ 2.994,01 até R$ 3.992,00.</td>\n",
       "      <td>6.790369</td>\n",
       "      <td>Nenhuma renda.</td>\n",
       "      <td>7.027546</td>\n",
       "    </tr>\n",
       "    <tr>\n",
       "      <th>5</th>\n",
       "      <td>De R$ 2.495,01 até R$ 2.994,00.</td>\n",
       "      <td>5.312424</td>\n",
       "      <td>De R$ 2.994,01 até R$ 3.992,00.</td>\n",
       "      <td>3.535322</td>\n",
       "    </tr>\n",
       "    <tr>\n",
       "      <th>6</th>\n",
       "      <td>De R$ 3.992,01 até R$ 4.990,00.</td>\n",
       "      <td>4.888171</td>\n",
       "      <td>De R$ 2.495,01 até R$ 2.994,00.</td>\n",
       "      <td>2.409831</td>\n",
       "    </tr>\n",
       "    <tr>\n",
       "      <th>7</th>\n",
       "      <td>De R$ 4.990,01 até R$ 5.988,00.</td>\n",
       "      <td>3.713760</td>\n",
       "      <td>De R$ 3.992,01 até R$ 4.990,00.</td>\n",
       "      <td>2.136463</td>\n",
       "    </tr>\n",
       "    <tr>\n",
       "      <th>8</th>\n",
       "      <td>Nenhuma renda.</td>\n",
       "      <td>2.869110</td>\n",
       "      <td>De R$ 4.990,01 até R$ 5.988,00.</td>\n",
       "      <td>1.594651</td>\n",
       "    </tr>\n",
       "    <tr>\n",
       "      <th>9</th>\n",
       "      <td>De R$ 5.988,01 até R$ 6.986,00.</td>\n",
       "      <td>2.371577</td>\n",
       "      <td>De R$ 5.988,01 até R$ 6.986,00.</td>\n",
       "      <td>0.943245</td>\n",
       "    </tr>\n",
       "    <tr>\n",
       "      <th>10</th>\n",
       "      <td>Mais de R$ 19.960,00.</td>\n",
       "      <td>2.059172</td>\n",
       "      <td>De R$ 6.986,01 até R$ 7.984,00.</td>\n",
       "      <td>0.676033</td>\n",
       "    </tr>\n",
       "    <tr>\n",
       "      <th>11</th>\n",
       "      <td>De R$ 9.980,01 até R$ 11.976,00.</td>\n",
       "      <td>1.958508</td>\n",
       "      <td>De R$ 9.980,01 até R$ 11.976,00.</td>\n",
       "      <td>0.639092</td>\n",
       "    </tr>\n",
       "    <tr>\n",
       "      <th>12</th>\n",
       "      <td>De R$ 6.986,01 até R$ 7.984,00.</td>\n",
       "      <td>1.770294</td>\n",
       "      <td>Mais de R$ 19.960,00.</td>\n",
       "      <td>0.557820</td>\n",
       "    </tr>\n",
       "    <tr>\n",
       "      <th>13</th>\n",
       "      <td>De R$ 11.976,01 até R$ 14.970,00.</td>\n",
       "      <td>1.657674</td>\n",
       "      <td>De R$ 11.976,01 até R$ 14.970,00.</td>\n",
       "      <td>0.555357</td>\n",
       "    </tr>\n",
       "    <tr>\n",
       "      <th>14</th>\n",
       "      <td>De R$ 14.970,01 até R$ 19.960,00.</td>\n",
       "      <td>1.543125</td>\n",
       "      <td>De R$ 14.970,01 até R$ 19.960,00.</td>\n",
       "      <td>0.464234</td>\n",
       "    </tr>\n",
       "    <tr>\n",
       "      <th>15</th>\n",
       "      <td>De R$ 7.984,01 até R$ 8.982,00.</td>\n",
       "      <td>1.402350</td>\n",
       "      <td>De R$ 7.984,01 até R$ 8.982,00.</td>\n",
       "      <td>0.460540</td>\n",
       "    </tr>\n",
       "    <tr>\n",
       "      <th>16</th>\n",
       "      <td>De R$ 8.982,01 até R$ 9.980,00.</td>\n",
       "      <td>1.361468</td>\n",
       "      <td>De R$ 8.982,01 até R$ 9.980,00.</td>\n",
       "      <td>0.435912</td>\n",
       "    </tr>\n",
       "  </tbody>\n",
       "</table>\n",
       "</div>"
      ],
      "text/plain": [
       "                             renda_RJ       %_RJ  \\\n",
       "0       De R$ 998,01 até R$ 1.497,00.  25.183682   \n",
       "1                      Até R$ 998,00.  15.758700   \n",
       "2     De R$ 1.497,01 até R$ 1.996,00.  11.092298   \n",
       "3     De R$ 1.996,01 até R$ 2.495,00.  10.267318   \n",
       "4     De R$ 2.994,01 até R$ 3.992,00.   6.790369   \n",
       "5     De R$ 2.495,01 até R$ 2.994,00.   5.312424   \n",
       "6     De R$ 3.992,01 até R$ 4.990,00.   4.888171   \n",
       "7     De R$ 4.990,01 até R$ 5.988,00.   3.713760   \n",
       "8                      Nenhuma renda.   2.869110   \n",
       "9     De R$ 5.988,01 até R$ 6.986,00.   2.371577   \n",
       "10              Mais de R$ 19.960,00.   2.059172   \n",
       "11   De R$ 9.980,01 até R$ 11.976,00.   1.958508   \n",
       "12    De R$ 6.986,01 até R$ 7.984,00.   1.770294   \n",
       "13  De R$ 11.976,01 até R$ 14.970,00.   1.657674   \n",
       "14  De R$ 14.970,01 até R$ 19.960,00.   1.543125   \n",
       "15    De R$ 7.984,01 até R$ 8.982,00.   1.402350   \n",
       "16    De R$ 8.982,01 até R$ 9.980,00.   1.361468   \n",
       "\n",
       "                             renda_AM       %_AM  \n",
       "0                      Até R$ 998,00.  34.089818  \n",
       "1       De R$ 998,01 até R$ 1.497,00.  29.776256  \n",
       "2     De R$ 1.497,01 até R$ 1.996,00.   7.595217  \n",
       "3     De R$ 1.996,01 até R$ 2.495,00.   7.102661  \n",
       "4                      Nenhuma renda.   7.027546  \n",
       "5     De R$ 2.994,01 até R$ 3.992,00.   3.535322  \n",
       "6     De R$ 2.495,01 até R$ 2.994,00.   2.409831  \n",
       "7     De R$ 3.992,01 até R$ 4.990,00.   2.136463  \n",
       "8     De R$ 4.990,01 até R$ 5.988,00.   1.594651  \n",
       "9     De R$ 5.988,01 até R$ 6.986,00.   0.943245  \n",
       "10    De R$ 6.986,01 até R$ 7.984,00.   0.676033  \n",
       "11   De R$ 9.980,01 até R$ 11.976,00.   0.639092  \n",
       "12              Mais de R$ 19.960,00.   0.557820  \n",
       "13  De R$ 11.976,01 até R$ 14.970,00.   0.555357  \n",
       "14  De R$ 14.970,01 até R$ 19.960,00.   0.464234  \n",
       "15    De R$ 7.984,01 até R$ 8.982,00.   0.460540  \n",
       "16    De R$ 8.982,01 até R$ 9.980,00.   0.435912  "
      ]
     },
     "execution_count": 42,
     "metadata": {},
     "output_type": "execute_result"
    }
   ],
   "source": [
    "pd.DataFrame(data={'renda_RJ':data.filter((data.NU_NOTA_REDACAO >=0)&(data.SG_UF_RESIDENCIA=='RJ'))['Q006'].value_counts().index,'%_RJ':percj,\n",
    "'renda_AM':data.filter((data.NU_NOTA_REDACAO >=0)&(data.SG_UF_RESIDENCIA=='AM'))['Q006'].value_counts().index,'%_AM':perc})\n",
    "                   "
   ]
  },
  {
   "cell_type": "code",
   "execution_count": null,
   "metadata": {},
   "outputs": [],
   "source": []
  }
 ],
 "metadata": {
  "kernelspec": {
   "display_name": "PySpark",
   "language": "python",
   "name": "pyspark"
  },
  "language_info": {
   "codemirror_mode": {
    "name": "ipython",
    "version": 3
   },
   "file_extension": ".py",
   "mimetype": "text/x-python",
   "name": "python",
   "nbconvert_exporter": "python",
   "pygments_lexer": "ipython3",
   "version": "3.6.10"
  }
 },
 "nbformat": 4,
 "nbformat_minor": 2
}
