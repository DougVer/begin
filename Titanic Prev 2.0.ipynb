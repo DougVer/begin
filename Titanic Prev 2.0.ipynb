{
 "cells": [
  {
   "cell_type": "code",
   "execution_count": 1,
   "metadata": {
    "collapsed": false
   },
   "outputs": [],
   "source": [
    "#Importação das bibliotecas\n",
    "import warnings\n",
    "warnings.filterwarnings('ignore')\n",
    "from sklearn.model_selection import RepeatedKFold\n",
    "import pandas as pd\n",
    "import matplotlib.pyplot as plt\n",
    "import numpy as np\n",
    "import seaborn as sns\n",
    "import re\n",
    "%matplotlib inline\n"
   ]
  },
  {
   "cell_type": "code",
   "execution_count": 2,
   "metadata": {
    "collapsed": true
   },
   "outputs": [],
   "source": [
    "#Importação dos Datasets\n",
    "#Fonte: Kaggle\n",
    "train = pd.read_csv('titanic/trains.csv')\n",
    "test = pd.read_csv('titanic/test.csv')"
   ]
  },
  {
   "cell_type": "code",
   "execution_count": 3,
   "metadata": {
    "collapsed": false
   },
   "outputs": [
    {
     "data": {
      "text/html": [
       "<div>\n",
       "<table border=\"1\" class=\"dataframe\">\n",
       "  <thead>\n",
       "    <tr style=\"text-align: right;\">\n",
       "      <th></th>\n",
       "      <th>PassengerId</th>\n",
       "      <th>Survived</th>\n",
       "      <th>Pclass</th>\n",
       "      <th>Name</th>\n",
       "      <th>Sex</th>\n",
       "      <th>Age</th>\n",
       "      <th>SibSp</th>\n",
       "      <th>Parch</th>\n",
       "      <th>Ticket</th>\n",
       "      <th>Fare</th>\n",
       "      <th>Cabin</th>\n",
       "      <th>Embarked</th>\n",
       "    </tr>\n",
       "  </thead>\n",
       "  <tbody>\n",
       "    <tr>\n",
       "      <th>0</th>\n",
       "      <td>1</td>\n",
       "      <td>0</td>\n",
       "      <td>3</td>\n",
       "      <td>Braund, Mr. Owen Harris</td>\n",
       "      <td>male</td>\n",
       "      <td>22.0</td>\n",
       "      <td>1</td>\n",
       "      <td>0</td>\n",
       "      <td>A/5 21171</td>\n",
       "      <td>7.2500</td>\n",
       "      <td>NaN</td>\n",
       "      <td>S</td>\n",
       "    </tr>\n",
       "    <tr>\n",
       "      <th>1</th>\n",
       "      <td>2</td>\n",
       "      <td>1</td>\n",
       "      <td>1</td>\n",
       "      <td>Cumings, Mrs. John Bradley (Florence Briggs Th...</td>\n",
       "      <td>female</td>\n",
       "      <td>38.0</td>\n",
       "      <td>1</td>\n",
       "      <td>0</td>\n",
       "      <td>PC 17599</td>\n",
       "      <td>71.2833</td>\n",
       "      <td>C85</td>\n",
       "      <td>C</td>\n",
       "    </tr>\n",
       "    <tr>\n",
       "      <th>2</th>\n",
       "      <td>3</td>\n",
       "      <td>1</td>\n",
       "      <td>3</td>\n",
       "      <td>Heikkinen, Miss. Laina</td>\n",
       "      <td>female</td>\n",
       "      <td>26.0</td>\n",
       "      <td>0</td>\n",
       "      <td>0</td>\n",
       "      <td>STON/O2. 3101282</td>\n",
       "      <td>7.9250</td>\n",
       "      <td>NaN</td>\n",
       "      <td>S</td>\n",
       "    </tr>\n",
       "    <tr>\n",
       "      <th>3</th>\n",
       "      <td>4</td>\n",
       "      <td>1</td>\n",
       "      <td>1</td>\n",
       "      <td>Futrelle, Mrs. Jacques Heath (Lily May Peel)</td>\n",
       "      <td>female</td>\n",
       "      <td>35.0</td>\n",
       "      <td>1</td>\n",
       "      <td>0</td>\n",
       "      <td>113803</td>\n",
       "      <td>53.1000</td>\n",
       "      <td>C123</td>\n",
       "      <td>S</td>\n",
       "    </tr>\n",
       "    <tr>\n",
       "      <th>4</th>\n",
       "      <td>5</td>\n",
       "      <td>0</td>\n",
       "      <td>3</td>\n",
       "      <td>Allen, Mr. William Henry</td>\n",
       "      <td>male</td>\n",
       "      <td>35.0</td>\n",
       "      <td>0</td>\n",
       "      <td>0</td>\n",
       "      <td>373450</td>\n",
       "      <td>8.0500</td>\n",
       "      <td>NaN</td>\n",
       "      <td>S</td>\n",
       "    </tr>\n",
       "  </tbody>\n",
       "</table>\n",
       "</div>"
      ],
      "text/plain": [
       "   PassengerId  Survived  Pclass  \\\n",
       "0            1         0       3   \n",
       "1            2         1       1   \n",
       "2            3         1       3   \n",
       "3            4         1       1   \n",
       "4            5         0       3   \n",
       "\n",
       "                                                Name     Sex   Age  SibSp  \\\n",
       "0                            Braund, Mr. Owen Harris    male  22.0      1   \n",
       "1  Cumings, Mrs. John Bradley (Florence Briggs Th...  female  38.0      1   \n",
       "2                             Heikkinen, Miss. Laina  female  26.0      0   \n",
       "3       Futrelle, Mrs. Jacques Heath (Lily May Peel)  female  35.0      1   \n",
       "4                           Allen, Mr. William Henry    male  35.0      0   \n",
       "\n",
       "   Parch            Ticket     Fare Cabin Embarked  \n",
       "0      0         A/5 21171   7.2500   NaN        S  \n",
       "1      0          PC 17599  71.2833   C85        C  \n",
       "2      0  STON/O2. 3101282   7.9250   NaN        S  \n",
       "3      0            113803  53.1000  C123        S  \n",
       "4      0            373450   8.0500   NaN        S  "
      ]
     },
     "execution_count": 3,
     "metadata": {},
     "output_type": "execute_result"
    }
   ],
   "source": [
    "train.head()"
   ]
  },
  {
   "cell_type": "code",
   "execution_count": 4,
   "metadata": {
    "collapsed": false
   },
   "outputs": [
    {
     "data": {
      "text/plain": [
       "PassengerId      0\n",
       "Survived         0\n",
       "Pclass           0\n",
       "Name             0\n",
       "Sex              0\n",
       "Age            177\n",
       "SibSp            0\n",
       "Parch            0\n",
       "Ticket           0\n",
       "Fare             0\n",
       "Cabin          687\n",
       "Embarked         2\n",
       "dtype: int64"
      ]
     },
     "execution_count": 4,
     "metadata": {},
     "output_type": "execute_result"
    }
   ],
   "source": [
    "#Contando valores nulos\n",
    "train.isnull().sum()"
   ]
  },
  {
   "cell_type": "code",
   "execution_count": 5,
   "metadata": {
    "collapsed": false
   },
   "outputs": [
    {
     "data": {
      "text/plain": [
       "(male      577\n",
       " female    314\n",
       " Name: Sex, dtype: int64, S    644\n",
       " C    168\n",
       " Q     77\n",
       " Name: Embarked, dtype: int64)"
      ]
     },
     "execution_count": 5,
     "metadata": {},
     "output_type": "execute_result"
    }
   ],
   "source": [
    "train['Sex'].value_counts(), train['Embarked'].value_counts()"
   ]
  },
  {
   "cell_type": "markdown",
   "metadata": {},
   "source": [
    "Visualizando os seguintes gráficos por Classe e Gênero, podemos observar que a quantidade de homens mortos é maior que de mulheres, assim como entre as classes.\n",
    "Logo conclui-se que essas duas variáveis são muito importantes para os modelos de predição."
   ]
  },
  {
   "cell_type": "code",
   "execution_count": 6,
   "metadata": {
    "collapsed": false
   },
   "outputs": [
    {
     "data": {
      "image/png": "[encoded data removed]",
      "text/plain": [
       "<matplotlib.figure.Figure at 0x21f8ab370f0>"
      ]
     },
     "metadata": {},
     "output_type": "display_data"
    }
   ],
   "source": [
    "#Quatidade total de mortos e spbreviventes entre os gêneros\n",
    "train['Died'] = train['Survived'].replace([0,1],[1,0])\n",
    "train.groupby('Sex').agg('sum')[['Survived','Died']].plot(kind='bar',color=['r','k'],stacked=True).set_xticklabels(['Female','Male'])\n",
    "plt.show()"
   ]
  },
  {
   "cell_type": "code",
   "execution_count": 7,
   "metadata": {
    "collapsed": false
   },
   "outputs": [
    {
     "data": {
      "image/png": "[encoded data removed]",
      "text/plain": [
       "<matplotlib.figure.Figure at 0x21f8ab31e10>"
      ]
     },
     "metadata": {},
     "output_type": "display_data"
    }
   ],
   "source": [
    "#Quantidade total entre gênero e classe\n",
    "train.groupby(['Pclass','Sex']).agg('sum')[['Survived','Died']].plot(kind='bar')\n",
    "plt.show()"
   ]
  },
  {
   "cell_type": "code",
   "execution_count": 8,
   "metadata": {
    "collapsed": false
   },
   "outputs": [
    {
     "data": {
      "image/png": "[encoded data removed]",
      "text/plain": [
       "<matplotlib.figure.Figure at 0x21f8b0345c0>"
      ]
     },
     "metadata": {},
     "output_type": "display_data"
    }
   ],
   "source": [
    "#Relação de sobreviventes entre gênero e idade\n",
    "sns.violinplot(x='Sex',y='Age',hue='Survived',data=train, split=True)\n",
    "plt.show()"
   ]
  },
  {
   "cell_type": "code",
   "execution_count": 9,
   "metadata": {
    "collapsed": true
   },
   "outputs": [],
   "source": [
    "#Função para aplicar transformações em algumas variáveis\n",
    "def transf(val1):\n",
    "    #Transformando valores categóricos em numéricos\n",
    "    val1['Sex']=val1['Sex'].replace(['female','male'],[1,0])\n",
    "    val1.update(val1['Embarked'].fillna('S'))\n",
    "    val1['Embarked'] = val1['Embarked'].replace(['S','Q','C'],[1,2,3])\n",
    "    #Criando uma coluna com a soma total de integrantes da família, então separando em 4 categorias\n",
    "    val1['FamSize'] = val1['SibSp'] + val1['Parch'] + 1\n",
    "    di={1:'Single',2:'Small',3:'Small',4:'Small',5:'Medium',6:'Medium',7:'Large',8:'Large',11:'Large'}\n",
    "    val1['FamSize'] = val1['FamSize'].map(di)\n",
    "    val1['FamSize'] = val1['FamSize'].replace(['Single','Small','Medium','Large'],[1,2,3,4])\n",
    "    #Colhendo as informações dos títulos sociais dos passegeiros para então separa-los por grupos\n",
    "    title = []\n",
    "    for i in val1['Name']:\n",
    "        title.append(i.split(', ')[1].split('.')[0])\n",
    "    val1['Title'] = title\n",
    "    val1['title'] = title\n",
    "    dic={\n",
    "        'Mr':1,\n",
    "        'Mrs':2,\n",
    "        'Miss':3,\n",
    "        'Master':4,\n",
    "        'Don':5,\n",
    "        'Rev':6,\n",
    "        'Dr':6,\n",
    "        'Mme':2,\n",
    "        'Ms':2,\n",
    "        'Major':6,\n",
    "        'Lady':5,\n",
    "        'Sir':5,\n",
    "        'Mlle':3,\n",
    "        'Col':6,\n",
    "        'Capt':6,\n",
    "        'the Countess':5,\n",
    "        'Jonkheer':5\n",
    "    }\n",
    "    val1['Title'] = val1['Title'].map(dic)\n",
    "    #Preenchendo os valores faltantes de idade\n",
    "    val1['Age'] = val1.groupby(['Pclass','Sex','Title'])['Age'].apply(lambda x: x.fillna(x.median()))\n",
    "    \n",
    "    #Agrupando os decks do navio pelas Classes\n",
    "    val1.update(val1['Cabin'].fillna('N'))\n",
    "    newcab=[]\n",
    "    for i in val1['Cabin']:\n",
    "        newcab.append(i[0])\n",
    "    val1['Cab'] = newcab\n",
    "    val1['Cab'] = val1['Cab'].replace(['A'], 1)\n",
    "    val1['Cab'] = val1['Cab'].replace(['B',], 2)\n",
    "    val1['Cab'] = val1['Cab'].replace(['C'], 3)\n",
    "    val1['Cab'] = val1['Cab'].replace(['D'], 4)\n",
    "    val1['Cab'] = val1['Cab'].replace(['E'], 5)\n",
    "    val1['Cab'] = val1['Cab'].replace(['F'], 6)\n",
    "    val1['Cab'] = val1['Cab'].replace(['G'], 7)\n",
    "    val1['Cab'] = val1['Cab'].replace(['N','T'], 8)\n",
    "    \n",
    "    val1['Ticket'] = val1['Ticket'].apply(lambda x: int(re.compile(r'\\D').sub('',x) + '1'))\n",
    "    \n",
    "transf(test)\n",
    "transf(train)\n",
    "    \n",
    "    \n",
    "    "
   ]
  },
  {
   "cell_type": "code",
   "execution_count": 10,
   "metadata": {
    "collapsed": false
   },
   "outputs": [
    {
     "data": {
      "text/plain": [
       "PassengerId    0\n",
       "Survived       0\n",
       "Pclass         0\n",
       "Name           0\n",
       "Sex            0\n",
       "Age            0\n",
       "SibSp          0\n",
       "Parch          0\n",
       "Ticket         0\n",
       "Fare           0\n",
       "Cabin          0\n",
       "Embarked       0\n",
       "Died           0\n",
       "FamSize        0\n",
       "Title          0\n",
       "title          0\n",
       "Cab            0\n",
       "dtype: int64"
      ]
     },
     "execution_count": 10,
     "metadata": {},
     "output_type": "execute_result"
    }
   ],
   "source": [
    "train.isnull().sum()"
   ]
  },
  {
   "cell_type": "code",
   "execution_count": 11,
   "metadata": {
    "collapsed": false
   },
   "outputs": [
    {
     "data": {
      "text/html": [
       "<div>\n",
       "<table border=\"1\" class=\"dataframe\">\n",
       "  <thead>\n",
       "    <tr style=\"text-align: right;\">\n",
       "      <th></th>\n",
       "      <th>PassengerId</th>\n",
       "      <th>Survived</th>\n",
       "      <th>Pclass</th>\n",
       "      <th>Name</th>\n",
       "      <th>Sex</th>\n",
       "      <th>Age</th>\n",
       "      <th>SibSp</th>\n",
       "      <th>Parch</th>\n",
       "      <th>Ticket</th>\n",
       "      <th>Fare</th>\n",
       "      <th>Cabin</th>\n",
       "      <th>Embarked</th>\n",
       "      <th>Died</th>\n",
       "      <th>FamSize</th>\n",
       "      <th>Title</th>\n",
       "      <th>title</th>\n",
       "      <th>Cab</th>\n",
       "    </tr>\n",
       "  </thead>\n",
       "  <tbody>\n",
       "    <tr>\n",
       "      <th>0</th>\n",
       "      <td>1</td>\n",
       "      <td>0</td>\n",
       "      <td>3</td>\n",
       "      <td>Braund, Mr. Owen Harris</td>\n",
       "      <td>0</td>\n",
       "      <td>22.0</td>\n",
       "      <td>1</td>\n",
       "      <td>0</td>\n",
       "      <td>5211711</td>\n",
       "      <td>7.2500</td>\n",
       "      <td>N</td>\n",
       "      <td>1</td>\n",
       "      <td>1</td>\n",
       "      <td>2</td>\n",
       "      <td>1</td>\n",
       "      <td>Mr</td>\n",
       "      <td>8</td>\n",
       "    </tr>\n",
       "    <tr>\n",
       "      <th>1</th>\n",
       "      <td>2</td>\n",
       "      <td>1</td>\n",
       "      <td>1</td>\n",
       "      <td>Cumings, Mrs. John Bradley (Florence Briggs Th...</td>\n",
       "      <td>1</td>\n",
       "      <td>38.0</td>\n",
       "      <td>1</td>\n",
       "      <td>0</td>\n",
       "      <td>175991</td>\n",
       "      <td>71.2833</td>\n",
       "      <td>C85</td>\n",
       "      <td>3</td>\n",
       "      <td>0</td>\n",
       "      <td>2</td>\n",
       "      <td>2</td>\n",
       "      <td>Mrs</td>\n",
       "      <td>3</td>\n",
       "    </tr>\n",
       "    <tr>\n",
       "      <th>2</th>\n",
       "      <td>3</td>\n",
       "      <td>1</td>\n",
       "      <td>3</td>\n",
       "      <td>Heikkinen, Miss. Laina</td>\n",
       "      <td>1</td>\n",
       "      <td>26.0</td>\n",
       "      <td>0</td>\n",
       "      <td>0</td>\n",
       "      <td>231012821</td>\n",
       "      <td>7.9250</td>\n",
       "      <td>N</td>\n",
       "      <td>1</td>\n",
       "      <td>0</td>\n",
       "      <td>1</td>\n",
       "      <td>3</td>\n",
       "      <td>Miss</td>\n",
       "      <td>8</td>\n",
       "    </tr>\n",
       "    <tr>\n",
       "      <th>3</th>\n",
       "      <td>4</td>\n",
       "      <td>1</td>\n",
       "      <td>1</td>\n",
       "      <td>Futrelle, Mrs. Jacques Heath (Lily May Peel)</td>\n",
       "      <td>1</td>\n",
       "      <td>35.0</td>\n",
       "      <td>1</td>\n",
       "      <td>0</td>\n",
       "      <td>1138031</td>\n",
       "      <td>53.1000</td>\n",
       "      <td>C123</td>\n",
       "      <td>1</td>\n",
       "      <td>0</td>\n",
       "      <td>2</td>\n",
       "      <td>2</td>\n",
       "      <td>Mrs</td>\n",
       "      <td>3</td>\n",
       "    </tr>\n",
       "    <tr>\n",
       "      <th>4</th>\n",
       "      <td>5</td>\n",
       "      <td>0</td>\n",
       "      <td>3</td>\n",
       "      <td>Allen, Mr. William Henry</td>\n",
       "      <td>0</td>\n",
       "      <td>35.0</td>\n",
       "      <td>0</td>\n",
       "      <td>0</td>\n",
       "      <td>3734501</td>\n",
       "      <td>8.0500</td>\n",
       "      <td>N</td>\n",
       "      <td>1</td>\n",
       "      <td>1</td>\n",
       "      <td>1</td>\n",
       "      <td>1</td>\n",
       "      <td>Mr</td>\n",
       "      <td>8</td>\n",
       "    </tr>\n",
       "  </tbody>\n",
       "</table>\n",
       "</div>"
      ],
      "text/plain": [
       "   PassengerId  Survived  Pclass  \\\n",
       "0            1         0       3   \n",
       "1            2         1       1   \n",
       "2            3         1       3   \n",
       "3            4         1       1   \n",
       "4            5         0       3   \n",
       "\n",
       "                                                Name  Sex   Age  SibSp  Parch  \\\n",
       "0                            Braund, Mr. Owen Harris    0  22.0      1      0   \n",
       "1  Cumings, Mrs. John Bradley (Florence Briggs Th...    1  38.0      1      0   \n",
       "2                             Heikkinen, Miss. Laina    1  26.0      0      0   \n",
       "3       Futrelle, Mrs. Jacques Heath (Lily May Peel)    1  35.0      1      0   \n",
       "4                           Allen, Mr. William Henry    0  35.0      0      0   \n",
       "\n",
       "      Ticket     Fare Cabin  Embarked  Died  FamSize  Title title  Cab  \n",
       "0    5211711   7.2500     N         1     1        2      1    Mr    8  \n",
       "1     175991  71.2833   C85         3     0        2      2   Mrs    3  \n",
       "2  231012821   7.9250     N         1     0        1      3  Miss    8  \n",
       "3    1138031  53.1000  C123         1     0        2      2   Mrs    3  \n",
       "4    3734501   8.0500     N         1     1        1      1    Mr    8  "
      ]
     },
     "execution_count": 11,
     "metadata": {},
     "output_type": "execute_result"
    }
   ],
   "source": [
    "train.head()"
   ]
  },
  {
   "cell_type": "code",
   "execution_count": 12,
   "metadata": {
    "collapsed": false
   },
   "outputs": [
    {
     "data": {
      "image/png": "[encoded data removed]",
      "text/plain": [
       "<matplotlib.figure.Figure at 0x21f8b0f8048>"
      ]
     },
     "metadata": {},
     "output_type": "display_data"
    }
   ],
   "source": [
    "import matplotlib.pyplot as plt\n",
    "import seaborn as sns\n",
    "sns.heatmap(train.corr(),\n",
    "            annot = True,\n",
    "            fmt = '.2f',\n",
    "            cmap='Blues')\n",
    "plt.title('Correlação entre variáveis')\n",
    "plt.show()"
   ]
  },
  {
   "cell_type": "code",
   "execution_count": 13,
   "metadata": {
    "collapsed": false
   },
   "outputs": [],
   "source": [
    "x = train[['PassengerId','Age','FamSize','Fare','SibSp','Embarked','Sex','Title','Cab']].fillna(-1)\n",
    "y = train['Survived']\n",
    "ts = test[['PassengerId','Age','FamSize','Fare','SibSp','Embarked','Sex','Title','Cab']].fillna(-1)"
   ]
  },
  {
   "cell_type": "code",
   "execution_count": 14,
   "metadata": {
    "collapsed": false
   },
   "outputs": [],
   "source": [
    "#algoritmos para testes das predições\n",
    "from sklearn.ensemble import ExtraTreesClassifier\n",
    "from sklearn.neighbors import KNeighborsClassifier\n",
    "from sklearn.linear_model import LogisticRegression\n",
    "from sklearn.naive_bayes import GaussianNB\n",
    "from sklearn.ensemble import RandomForestClassifier"
   ]
  },
  {
   "cell_type": "code",
   "execution_count": 15,
   "metadata": {
    "collapsed": true
   },
   "outputs": [],
   "source": [
    "#Usando RepeatedKFold para testar qual dos algoritmos possui melhor desempenho em predição com o Dataset\n",
    "rkf = RepeatedKFold(n_splits=2, n_repeats=10, random_state=10)"
   ]
  },
  {
   "cell_type": "code",
   "execution_count": 16,
   "metadata": {
    "collapsed": false
   },
   "outputs": [
    {
     "name": "stdout",
     "output_type": "stream",
     "text": [
      "445\n",
      "446\n",
      "Acc 1.0\n",
      "Acc1 0.77802690583\n",
      "Acc2 0.798206278027\n",
      "Acc3 0.811659192825\n",
      "Acc4 0.977578475336\n",
      "446\n",
      "445\n",
      "Acc 0.997752808989\n",
      "Acc1 0.741573033708\n",
      "Acc2 0.78202247191\n",
      "Acc3 0.784269662921\n",
      "Acc4 0.984269662921\n",
      "445\n",
      "446\n",
      "Acc 1.0\n",
      "Acc1 0.780269058296\n",
      "Acc2 0.795964125561\n",
      "Acc3 0.811659192825\n",
      "Acc4 0.970852017937\n",
      "446\n",
      "445\n",
      "Acc 1.0\n",
      "Acc1 0.739325842697\n",
      "Acc2 0.784269662921\n",
      "Acc3 0.784269662921\n",
      "Acc4 0.988764044944\n",
      "445\n",
      "446\n",
      "Acc 1.0\n",
      "Acc1 0.77130044843\n",
      "Acc2 0.784753363229\n",
      "Acc3 0.798206278027\n",
      "Acc4 0.986547085202\n",
      "446\n",
      "445\n",
      "Acc 1.0\n",
      "Acc1 0.748314606742\n",
      "Acc2 0.795505617978\n",
      "Acc3 0.797752808989\n",
      "Acc4 0.988764044944\n",
      "445\n",
      "446\n",
      "Acc 1.0\n",
      "Acc1 0.780269058296\n",
      "Acc2 0.807174887892\n",
      "Acc3 0.795964125561\n",
      "Acc4 0.97533632287\n",
      "446\n",
      "445\n",
      "Acc 1.0\n",
      "Acc1 0.739325842697\n",
      "Acc2 0.773033707865\n",
      "Acc3 0.8\n",
      "Acc4 0.988764044944\n",
      "445\n",
      "446\n",
      "Acc 1.0\n",
      "Acc1 0.757847533632\n",
      "Acc2 0.791479820628\n",
      "Acc3 0.789237668161\n",
      "Acc4 0.979820627803\n",
      "446\n",
      "445\n",
      "Acc 1.0\n",
      "Acc1 0.761797752809\n",
      "Acc2 0.788764044944\n",
      "Acc3 0.806741573034\n",
      "Acc4 0.995505617978\n",
      "445\n",
      "446\n",
      "Acc 1.0\n",
      "Acc1 0.744394618834\n",
      "Acc2 0.798206278027\n",
      "Acc3 0.800448430493\n",
      "Acc4 0.991031390135\n",
      "446\n",
      "445\n",
      "Acc 1.0\n",
      "Acc1 0.775280898876\n",
      "Acc2 0.78202247191\n",
      "Acc3 0.795505617978\n",
      "Acc4 0.98202247191\n",
      "445\n",
      "446\n",
      "Acc 0.997757847534\n",
      "Acc1 0.755605381166\n",
      "Acc2 0.804932735426\n",
      "Acc3 0.818385650224\n",
      "Acc4 0.97533632287\n",
      "446\n",
      "445\n",
      "Acc 1.0\n",
      "Acc1 0.76404494382\n",
      "Acc2 0.775280898876\n",
      "Acc3 0.777528089888\n",
      "Acc4 0.988764044944\n",
      "445\n",
      "446\n",
      "Acc 1.0\n",
      "Acc1 0.762331838565\n",
      "Acc2 0.780269058296\n",
      "Acc3 0.782511210762\n",
      "Acc4 0.977578475336\n",
      "446\n",
      "445\n",
      "Acc 1.0\n",
      "Acc1 0.757303370787\n",
      "Acc2 0.8\n",
      "Acc3 0.813483146067\n",
      "Acc4 0.98202247191\n",
      "445\n",
      "446\n",
      "Acc 0.997757847534\n",
      "Acc1 0.764573991031\n",
      "Acc2 0.813901345291\n",
      "Acc3 0.818385650224\n",
      "Acc4 0.977578475336\n",
      "446\n",
      "445\n",
      "Acc 1.0\n",
      "Acc1 0.755056179775\n",
      "Acc2 0.766292134831\n",
      "Acc3 0.777528089888\n",
      "Acc4 0.988764044944\n",
      "445\n",
      "446\n",
      "Acc 1.0\n",
      "Acc1 0.7533632287\n",
      "Acc2 0.795964125561\n",
      "Acc3 0.800448430493\n",
      "Acc4 0.984304932735\n",
      "446\n",
      "445\n",
      "Acc 1.0\n",
      "Acc1 0.766292134831\n",
      "Acc2 0.784269662921\n",
      "Acc3 0.795505617978\n",
      "Acc4 0.991011235955\n"
     ]
    },
    {
     "data": {
      "text/plain": [
       "(0.99966342520280149,\n",
       " 0.75981483347609213,\n",
       " 0.79011563460472611,\n",
       " 0.79797450496296674,\n",
       " 0.98373079054768997)"
      ]
     },
     "execution_count": 16,
     "metadata": {},
     "output_type": "execute_result"
    }
   ],
   "source": [
    "resulEx = []\n",
    "resulKN = []\n",
    "resulLR = []\n",
    "resulGa = []\n",
    "resulRF = []\n",
    "for linet, linev in rkf.split(x):\n",
    "    print(linet.shape[0])\n",
    "    print(linev.shape[0])\n",
    "    \n",
    "    xtrain, xvalid = x.iloc[linet], x.iloc[linev]\n",
    "    ytrain, yvalid = y.iloc[linet], y.iloc[linev]\n",
    "    \n",
    "    #ExtraTreesClassifier()\n",
    "    estimator = ExtraTreesClassifier(n_estimators=100,bootstrap=True)\n",
    "    estimator.fit(x,y)\n",
    "\n",
    "    #KNeighborsClassifier()\n",
    "    estimator1 = KNeighborsClassifier()\n",
    "    estimator1.fit(x,y)\n",
    "\n",
    "    #GaussianNB()\n",
    "    estimator2 = GaussianNB()\n",
    "    estimator2.fit(x,y)\n",
    "    \n",
    "    #LogisticRegression()\n",
    "    estimator3 = LogisticRegression()\n",
    "    estimator3.fit(x,y)\n",
    "    \n",
    "    #RandomForest()\n",
    "    estimator4 = RandomForestClassifier()\n",
    "    estimator4.fit(x,y)\n",
    "    \n",
    "    p = estimator.predict(xvalid)\n",
    "    p1 = estimator1.predict(xvalid)\n",
    "    p2 = estimator2.predict(xvalid)\n",
    "    p3 = estimator3.predict(xvalid)\n",
    "    p4 = estimator4.predict(xvalid)\n",
    "    \n",
    "    acc = np.mean(yvalid == p)\n",
    "    acc1 = np.mean(yvalid == p1)\n",
    "    acc2 = np.mean(yvalid == p2)\n",
    "    acc3 = np.mean(yvalid == p3)\n",
    "    acc4 = np.mean(yvalid == p4)\n",
    "    \n",
    "    resulEx.append(acc)\n",
    "    resulKN.append(acc1)\n",
    "    resulGa.append(acc2)\n",
    "    resulLR.append(acc3)\n",
    "    resulRF.append(acc4)\n",
    "    print('Acc', acc)\n",
    "    print('Acc1', acc1)\n",
    "    print('Acc2', acc2)\n",
    "    print('Acc3', acc3)\n",
    "    print('Acc4', acc4)\n",
    "\n",
    "np.mean(resulEx), np.mean(resulKN), np.mean(resulGa), np.mean(resulLR ), np.mean(resulRF)\n",
    "\n",
    "\n",
    "    \n"
   ]
  },
  {
   "cell_type": "markdown",
   "metadata": {},
   "source": [
    "Visualizando os resultados e as médias dos mesmos, podemos ver que os algoritmos que se comportaram de melhor maneira foram:\n",
    "GaussianNB(), LogisticRegression() & RandomForestClassifier()\n"
   ]
  },
  {
   "cell_type": "code",
   "execution_count": 17,
   "metadata": {
    "collapsed": true
   },
   "outputs": [],
   "source": [
    "#Treinando os algoritmos com o Dataset de Treino\n",
    "gd = pd.read_csv('titanic/gender_submission.csv')\n",
    "ge = gd['Survived']\n",
    "\n",
    "\n",
    "estimator2 = GaussianNB()\n",
    "estimator2.fit(x,y)\n",
    "p2 = estimator2.predict(ts)\n",
    "\n",
    "estimator3 = LogisticRegression()\n",
    "estimator3.fit(x,y)\n",
    "p3 = estimator3.predict(ts)\n",
    "\n",
    "estimator4 = RandomForestClassifier()\n",
    "estimator4.fit(x,y)\n",
    "p4 = estimator4.predict(ts)"
   ]
  },
  {
   "cell_type": "code",
   "execution_count": 18,
   "metadata": {
    "collapsed": false
   },
   "outputs": [
    {
     "name": "stdout",
     "output_type": "stream",
     "text": [
      "accuracy_score_Gaussian: 0.8995215311\n",
      "accuracy_score_Logistic: 0.954545454545\n",
      "accuracy_score_Random: 0.712918660287\n"
     ]
    }
   ],
   "source": [
    "from sklearn.metrics import accuracy_score,confusion_matrix\n",
    "print('accuracy_score_Gaussian:',accuracy_score(y_true = ge.values, y_pred=p2))\n",
    "print('accuracy_score_Logistic:',accuracy_score(y_true = ge.values, y_pred=p3))\n",
    "print('accuracy_score_Random:',accuracy_score(y_true = ge.values, y_pred=p4))"
   ]
  },
  {
   "cell_type": "code",
   "execution_count": 19,
   "metadata": {
    "collapsed": false
   },
   "outputs": [
    {
     "name": "stdout",
     "output_type": "stream",
     "text": [
      "GaussianNB\n",
      "accuracy_score: 0.8995215311\n"
     ]
    },
    {
     "data": {
      "image/png": "[encoded data removed]",
      "text/plain": [
       "<matplotlib.figure.Figure at 0x21f8d1a55f8>"
      ]
     },
     "metadata": {},
     "output_type": "display_data"
    }
   ],
   "source": [
    "#Visualizando a confusion matrix (valores reaisXvalores previstos)\n",
    "#accuracy_score\n",
    "\n",
    "#GaussianNB()\n",
    "print('GaussianNB')\n",
    "sns.heatmap(confusion_matrix(y_true = ge.values , y_pred= p2),annot=True,fmt='d')\n",
    "\n",
    "print('accuracy_score:',accuracy_score(y_true = ge.values, y_pred=p2))"
   ]
  },
  {
   "cell_type": "code",
   "execution_count": 20,
   "metadata": {
    "collapsed": false
   },
   "outputs": [
    {
     "name": "stdout",
     "output_type": "stream",
     "text": [
      "LogisticRegression\n",
      "accuracy_score: 0.954545454545\n"
     ]
    },
    {
     "data": {
      "image/png": "[encoded data removed]",
      "text/plain": [
       "<matplotlib.figure.Figure at 0x21f8af685f8>"
      ]
     },
     "metadata": {},
     "output_type": "display_data"
    }
   ],
   "source": [
    "#LogisticRegression()\n",
    "print('LogisticRegression')\n",
    "sns.heatmap(confusion_matrix(y_true = ge.values , y_pred= p3),annot=True,fmt='d')\n",
    "\n",
    "print('accuracy_score:',accuracy_score(y_true = ge.values, y_pred=p3))"
   ]
  },
  {
   "cell_type": "code",
   "execution_count": 21,
   "metadata": {
    "collapsed": false
   },
   "outputs": [
    {
     "name": "stdout",
     "output_type": "stream",
     "text": [
      "RandomForestClassifier\n",
      "accuracy_score: 0.712918660287\n"
     ]
    },
    {
     "data": {
      "image/png": "[encoded data removed]",
      "text/plain": [
       "<matplotlib.figure.Figure at 0x21f8af53cc0>"
      ]
     },
     "metadata": {},
     "output_type": "display_data"
    }
   ],
   "source": [
    "#RandomForestClassifier()\n",
    "print('RandomForestClassifier')\n",
    "sns.heatmap(confusion_matrix(y_true = ge.values , y_pred= p4),annot=True,fmt='d')\n",
    "\n",
    "print('accuracy_score:',accuracy_score(y_true = ge.values, y_pred=p4))"
   ]
  }
 ],
 "metadata": {
  "kernelspec": {
   "display_name": "Python 3",
   "language": "python",
   "name": "python3"
  },
  "language_info": {
   "codemirror_mode": {
    "name": "ipython",
    "version": 3
   },
   "file_extension": ".py",
   "mimetype": "text/x-python",
   "name": "python",
   "nbconvert_exporter": "python",
   "pygments_lexer": "ipython3",
   "version": "3.6.0"
  }
 },
 "nbformat": 4,
 "nbformat_minor": 2
}
