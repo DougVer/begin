{
 "cells": [
  {
   "cell_type": "code",
   "execution_count": 1,
   "metadata": {
    "collapsed": true
   },
   "outputs": [],
   "source": [
    "import pandas as pd\n",
    "import numpy as np\n",
    "import sqlite3"
   ]
  },
  {
   "cell_type": "code",
   "execution_count": 20,
   "metadata": {
    "collapsed": false
   },
   "outputs": [],
   "source": [
    "#Criando os dataframes\n",
    "e = pd.DataFrame({'first':np.arange(10), 'second':np.random.uniform(5,10, size=(10)), 'third':np.random.uniform(5,20, size=(10))})\n",
    "i = pd.DataFrame({'high':np.random.bytes(10), 'middle':np.random.uniform(5,10, size=(10)), 'low':np.random.uniform(5,20, size=(10))})\n",
    "r = pd.DataFrame({'yes':np.random.choice(10,10), 'neutral':np.random.uniform(5,10, size=(10)), 'no':np.random.uniform(5,20, size=(10))})"
   ]
  },
  {
   "cell_type": "code",
   "execution_count": 22,
   "metadata": {
    "collapsed": false
   },
   "outputs": [],
   "source": [
    "#Lista com nomes dos dataframes\n",
    "tbname = ['e','i','r']\n",
    "#Lista com todos os dados\n",
    "full = [e,i,r]"
   ]
  },
  {
   "cell_type": "code",
   "execution_count": 25,
   "metadata": {
    "collapsed": false
   },
   "outputs": [
    {
     "data": {
      "text/plain": [
       "[   first    second      third\n",
       " 0      0  9.049015  19.095215\n",
       " 1      1  5.818365  12.652158\n",
       " 2      2  5.282754  18.839620\n",
       " 3      3  9.738339  14.408208\n",
       " 4      4  8.996726  12.955072\n",
       " 5      5  6.428354   5.618143\n",
       " 6      6  6.127177   5.352093\n",
       " 7      7  9.567855   8.017019\n",
       " 8      8  8.973024  12.311425\n",
       " 9      9  8.414496  12.343485,\n",
       "                                  high        low    middle\n",
       " 0  b'\\x86\\xd3\\x00\\xa7\\xa3\\xf7\\x99u$K'  14.374960  8.006652\n",
       " 1  b'\\x86\\xd3\\x00\\xa7\\xa3\\xf7\\x99u$K'   8.576754  6.939341\n",
       " 2  b'\\x86\\xd3\\x00\\xa7\\xa3\\xf7\\x99u$K'  16.740658  7.429479\n",
       " 3  b'\\x86\\xd3\\x00\\xa7\\xa3\\xf7\\x99u$K'   6.496719  8.435300\n",
       " 4  b'\\x86\\xd3\\x00\\xa7\\xa3\\xf7\\x99u$K'  11.221616  5.192842\n",
       " 5  b'\\x86\\xd3\\x00\\xa7\\xa3\\xf7\\x99u$K'  18.643880  5.446951\n",
       " 6  b'\\x86\\xd3\\x00\\xa7\\xa3\\xf7\\x99u$K'   6.826627  9.828802\n",
       " 7  b'\\x86\\xd3\\x00\\xa7\\xa3\\xf7\\x99u$K'   6.460736  6.334461\n",
       " 8  b'\\x86\\xd3\\x00\\xa7\\xa3\\xf7\\x99u$K'  16.056631  7.206162\n",
       " 9  b'\\x86\\xd3\\x00\\xa7\\xa3\\xf7\\x99u$K'  17.570454  7.987794,\n",
       "     neutral         no  yes\n",
       " 0  8.768194  18.864945    0\n",
       " 1  7.709639  18.012591    9\n",
       " 2  5.611253  17.729391    2\n",
       " 3  8.668279   6.615102    7\n",
       " 4  7.587263   7.686576    2\n",
       " 5  8.136612  12.520185    0\n",
       " 6  6.626386  15.458395    6\n",
       " 7  8.039009   6.680365    0\n",
       " 8  9.267758  16.417112    8\n",
       " 9  6.196943  10.430506    6]"
      ]
     },
     "execution_count": 25,
     "metadata": {},
     "output_type": "execute_result"
    }
   ],
   "source": [
    "full"
   ]
  },
  {
   "cell_type": "code",
   "execution_count": 26,
   "metadata": {
    "collapsed": true
   },
   "outputs": [],
   "source": [
    "#Obtendo os nomes das colunas de todos os dataframes\n",
    "clname = []\n",
    "for i in range(0,len(tbname)):\n",
    "    columnNames = list(full[i].head(0))\n",
    "    clname.append(columnNames)"
   ]
  },
  {
   "cell_type": "code",
   "execution_count": 27,
   "metadata": {
    "collapsed": false
   },
   "outputs": [
    {
     "data": {
      "text/plain": [
       "[['first', 'second', 'third'],\n",
       " ['high', 'low', 'middle'],\n",
       " ['neutral', 'no', 'yes']]"
      ]
     },
     "execution_count": 27,
     "metadata": {},
     "output_type": "execute_result"
    }
   ],
   "source": [
    "clname"
   ]
  },
  {
   "cell_type": "code",
   "execution_count": 82,
   "metadata": {
    "collapsed": true
   },
   "outputs": [],
   "source": [
    "#Criando conexão com banco de dados\n",
    "con = sqlite3.connect('conxs.db')\n",
    "curs = con.cursor()"
   ]
  },
  {
   "cell_type": "code",
   "execution_count": 84,
   "metadata": {
    "collapsed": true
   },
   "outputs": [],
   "source": [
    "#Criando as tabelas no SQLite a partir dos nomes dos dataframes\n",
    "for item in range(0,len(tbname)):\n",
    "    curs.execute(\"CREATE TABLE IF NOT EXISTS \" + tbname[item] + \"(\" + ','.join(clname[item])+\")\")"
   ]
  },
  {
   "cell_type": "code",
   "execution_count": 85,
   "metadata": {
    "collapsed": false
   },
   "outputs": [],
   "source": [
    "#Varre todas as tabelas e para cada uma é realizado a inserção dos dados\n",
    "\n",
    "for ind in range(0, len(tbname)):\n",
    "    query = \"INSERT INTO \" + str(tbname[ind]) + \"(\" + ','.join(clname[ind]) + \") VALUES (\"+ ','.join(map(str,'?'*len(full[ind].columns))) +\")\"\n",
    "    full[ind] = full[ind].astype(str)\n",
    "    for i in range(0, len(full[ind])):\n",
    "        insert_register = tuple(full[ind].iloc[i])\n",
    "        curs.execute(query, insert_register)\n",
    "        con.commit()\n",
    "    "
   ]
  },
  {
   "cell_type": "code",
   "execution_count": 95,
   "metadata": {
    "collapsed": false
   },
   "outputs": [
    {
     "data": {
      "text/plain": [
       "<sqlite3.Cursor at 0x25a7eaa6f10>"
      ]
     },
     "execution_count": 95,
     "metadata": {},
     "output_type": "execute_result"
    }
   ],
   "source": [
    "#Visualizando a tabela criada\n",
    "curs.execute('select * from e')"
   ]
  },
  {
   "cell_type": "code",
   "execution_count": 96,
   "metadata": {
    "collapsed": false
   },
   "outputs": [
    {
     "data": {
      "text/plain": [
       "[('0', '9.04901547145', '19.0952150806'),\n",
       " ('1', '5.81836493225', '12.6521577161'),\n",
       " ('2', '5.28275393958', '18.8396202586'),\n",
       " ('3', '9.73833932764', '14.4082082705'),\n",
       " ('4', '8.99672645825', '12.955072491'),\n",
       " ('5', '6.42835390642', '5.6181427092'),\n",
       " ('6', '6.12717683588', '5.35209267187'),\n",
       " ('7', '9.56785509715', '8.0170186659'),\n",
       " ('8', '8.97302393987', '12.3114247449'),\n",
       " ('9', '8.41449577522', '12.3434851633')]"
      ]
     },
     "execution_count": 96,
     "metadata": {},
     "output_type": "execute_result"
    }
   ],
   "source": [
    "curs.fetchall()"
   ]
  },
  {
   "cell_type": "code",
   "execution_count": null,
   "metadata": {
    "collapsed": true
   },
   "outputs": [],
   "source": []
  }
 ],
 "metadata": {
  "kernelspec": {
   "display_name": "Python 3",
   "language": "python",
   "name": "python3"
  },
  "language_info": {
   "codemirror_mode": {
    "name": "ipython",
    "version": 3
   },
   "file_extension": ".py",
   "mimetype": "text/x-python",
   "name": "python",
   "nbconvert_exporter": "python",
   "pygments_lexer": "ipython3",
   "version": "3.6.0"
  }
 },
 "nbformat": 4,
 "nbformat_minor": 2
}
